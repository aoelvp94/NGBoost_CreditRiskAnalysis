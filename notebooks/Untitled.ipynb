{
 "cells": [
  {
   "cell_type": "code",
   "execution_count": 1,
   "metadata": {},
   "outputs": [
    {
     "ename": "ModuleNotFoundError",
     "evalue": "No module named 'ngboost_creditriskanalysis'",
     "output_type": "error",
     "traceback": [
      "\u001b[0;31m---------------------------------------------------------------------------\u001b[0m",
      "\u001b[0;31mModuleNotFoundError\u001b[0m                       Traceback (most recent call last)",
      "\u001b[0;32m<ipython-input-1-7054b5abc9f5>\u001b[0m in \u001b[0;36m<module>\u001b[0;34m\u001b[0m\n\u001b[1;32m      1\u001b[0m \u001b[0;32mimport\u001b[0m \u001b[0mpandas\u001b[0m \u001b[0;32mas\u001b[0m \u001b[0mpd\u001b[0m\u001b[0;34m\u001b[0m\u001b[0;34m\u001b[0m\u001b[0m\n\u001b[0;32m----> 2\u001b[0;31m \u001b[0;32mfrom\u001b[0m \u001b[0mplot_utils\u001b[0m \u001b[0;32mimport\u001b[0m \u001b[0mplot_4d\u001b[0m\u001b[0;34m\u001b[0m\u001b[0;34m\u001b[0m\u001b[0m\n\u001b[0m\u001b[1;32m      3\u001b[0m \u001b[0mdf_collector\u001b[0m \u001b[0;34m=\u001b[0m \u001b[0mpd\u001b[0m\u001b[0;34m.\u001b[0m\u001b[0mread_csv\u001b[0m\u001b[0;34m(\u001b[0m\u001b[0;34m\"data_hyperparams_1exp_with_fix_cost.csv\"\u001b[0m\u001b[0;34m)\u001b[0m\u001b[0;34m\u001b[0m\u001b[0;34m\u001b[0m\u001b[0m\n\u001b[1;32m      4\u001b[0m \u001b[0mdf_ref\u001b[0m \u001b[0;34m=\u001b[0m \u001b[0mdf_collector\u001b[0m\u001b[0;34m[\u001b[0m\u001b[0mdf_collector\u001b[0m\u001b[0;34m[\u001b[0m\u001b[0;34m\"threshold\"\u001b[0m\u001b[0;34m]\u001b[0m\u001b[0;34m==\u001b[0m\u001b[0;36m0.25\u001b[0m\u001b[0;34m]\u001b[0m\u001b[0;34m\u001b[0m\u001b[0;34m\u001b[0m\u001b[0m\n",
      "\u001b[0;32m~/Projects/NGBoost_CreditRiskAnalysis/plot_utils.py\u001b[0m in \u001b[0;36m<module>\u001b[0;34m\u001b[0m\n\u001b[1;32m      7\u001b[0m \u001b[0;32mimport\u001b[0m \u001b[0mplotly\u001b[0m\u001b[0;34m.\u001b[0m\u001b[0mgraph_objs\u001b[0m \u001b[0;32mas\u001b[0m \u001b[0mgo\u001b[0m\u001b[0;34m\u001b[0m\u001b[0;34m\u001b[0m\u001b[0m\n\u001b[1;32m      8\u001b[0m \u001b[0;32mfrom\u001b[0m \u001b[0mplotly\u001b[0m\u001b[0;34m.\u001b[0m\u001b[0moffline\u001b[0m \u001b[0;32mimport\u001b[0m \u001b[0mdownload_plotlyjs\u001b[0m\u001b[0;34m,\u001b[0m \u001b[0minit_notebook_mode\u001b[0m\u001b[0;34m,\u001b[0m \u001b[0mplot\u001b[0m\u001b[0;34m,\u001b[0m \u001b[0miplot\u001b[0m\u001b[0;34m\u001b[0m\u001b[0;34m\u001b[0m\u001b[0m\n\u001b[0;32m----> 9\u001b[0;31m \u001b[0;32mfrom\u001b[0m \u001b[0mngboost_creditriskanalysis\u001b[0m\u001b[0;34m.\u001b[0m\u001b[0mconstants\u001b[0m \u001b[0;32mimport\u001b[0m \u001b[0mcols\u001b[0m\u001b[0;34m,\u001b[0m \u001b[0mcols_with_missing_indicators\u001b[0m\u001b[0;34m\u001b[0m\u001b[0;34m\u001b[0m\u001b[0m\n\u001b[0m\u001b[1;32m     10\u001b[0m \u001b[0;34m\u001b[0m\u001b[0m\n\u001b[1;32m     11\u001b[0m \u001b[0;31m# sklearn utils\u001b[0m\u001b[0;34m\u001b[0m\u001b[0;34m\u001b[0m\u001b[0;34m\u001b[0m\u001b[0m\n",
      "\u001b[0;31mModuleNotFoundError\u001b[0m: No module named 'ngboost_creditriskanalysis'"
     ]
    }
   ],
   "source": [
    "import pandas as pd\n",
    "from plot_utils import plot_4d\n",
    "df_collector = pd.read_csv(\"data_hyperparams_1exp_with_fix_cost.csv\")\n",
    "df_ref = df_collector[df_collector[\"threshold\"]==0.25]"
   ]
  },
  {
   "cell_type": "code",
   "execution_count": 4,
   "metadata": {},
   "outputs": [
    {
     "ename": "ModuleNotFoundError",
     "evalue": "No module named 'NGBoost_CreditRiskAnalysis'",
     "output_type": "error",
     "traceback": [
      "\u001b[0;31m---------------------------------------------------------------------------\u001b[0m",
      "\u001b[0;31mModuleNotFoundError\u001b[0m                       Traceback (most recent call last)",
      "\u001b[0;32m<ipython-input-4-e598de036869>\u001b[0m in \u001b[0;36m<module>\u001b[0;34m\u001b[0m\n\u001b[0;32m----> 1\u001b[0;31m \u001b[0;32mimport\u001b[0m \u001b[0mNGBoost_CreditRiskAnalysis\u001b[0m\u001b[0;34m.\u001b[0m\u001b[0mconstants\u001b[0m\u001b[0;34m\u001b[0m\u001b[0;34m\u001b[0m\u001b[0m\n\u001b[0m",
      "\u001b[0;31mModuleNotFoundError\u001b[0m: No module named 'NGBoost_CreditRiskAnalysis'"
     ]
    }
   ],
   "source": [
    "import NGBoost_CreditRiskAnalysis.constants"
   ]
  },
  {
   "cell_type": "code",
   "execution_count": 8,
   "metadata": {},
   "outputs": [
    {
     "data": {
      "application/vnd.plotly.v1+json": {
       "config": {
        "linkText": "Export to plot.ly",
        "plotlyServerURL": "https://plot.ly",
        "showLink": false
       },
       "data": [
        {
         "hovertemplate": "estimators: %{x}<br>learning_rate: %{y} <br>max_depth: %{z}<extra></extra>",
         "marker": {
          "color": [
           2471674.0999999833,
           2560777.0599999856,
           2576980.539999984,
           5098394.580000039,
           9034025.020000046,
           2471674.0999999833,
           2445081.439999985,
           2353125.5399999805,
           3194777.299999985,
           5151167.44000004,
           2471674.0999999833,
           2471674.0999999833,
           2471674.0999999833,
           2471674.0999999833,
           2471674.0999999833,
           2471674.0999999833,
           2566367.5599999856,
           2612619.919999985,
           5096609.340000042,
           9013107.58000004,
           2471674.0999999833,
           2396123.8199999845,
           2284289.859999987,
           3384749.7199999867,
           6295279.7600000575,
           2471674.0999999833,
           2471674.0999999833,
           2471674.0999999833,
           2471674.0999999833,
           2471674.0999999833,
           2471674.0999999833,
           2566367.5599999856,
           2648036.259999986,
           5140935.900000041,
           9242690.92000004,
           2471674.0999999833,
           2371045.939999983,
           2260296.6999999867,
           3610136.279999992,
           6743536.12000006,
           2471674.0999999833,
           2471674.0999999833,
           2471674.0999999833,
           2471674.0999999833,
           2471674.0999999833,
           2471674.0999999833,
           2566367.5599999856,
           2633603.119999986,
           5155774.500000038,
           8772959.580000058,
           2471674.0999999833,
           2392352.2399999816,
           2246289.7199999844,
           3641692.8399999854,
           7200847.440000063,
           2471674.0999999833,
           2471674.0999999833,
           2471674.0999999833,
           2471674.0999999833,
           2471674.0999999833,
           2471674.0999999833,
           2566367.5599999856,
           2680978.279999988,
           5096427.740000041,
           9091406.040000053,
           2471674.0999999833,
           2417171.259999985,
           2289784.279999988,
           3801764.079999989,
           7530640.180000065,
           2471674.0999999833,
           2471674.0999999833,
           2471674.0999999833,
           2471674.0999999833,
           2471674.0999999833,
           2471674.0999999833,
           2566367.5599999856,
           2653190.279999986,
           5357264.02000005,
           8877985.660000045,
           2471674.0999999833,
           2410362.759999984,
           2310087.9999999846,
           3822849.639999989,
           7923105.320000063,
           2471674.0999999833,
           2471674.0999999833,
           2471674.0999999833,
           2471674.0999999833,
           2471674.0999999833,
           2471674.0999999833,
           2566367.5599999856,
           2589968.0399999856,
           5281372.800000051,
           9067761.940000044,
           2471674.0999999833,
           2364604.6199999824,
           2308495.239999986,
           4186229.3999999873,
           8058929.460000054,
           2471674.0999999833,
           2471674.0999999833,
           2473102.0999999833,
           2752469.0999999875,
           2471674.0999999833,
           2471674.0999999833,
           2566367.5599999856,
           2668493.7999999886,
           5104384.7000000365,
           8872603.84000005,
           2471674.0999999833,
           2370540.039999981,
           2324890.619999986,
           3973971.139999987,
           8235079.300000058,
           2471674.0999999833,
           2471674.0999999833,
           2412395.059999984,
           2748814.259999989,
           4268078.979999995,
           2471674.0999999833,
           2566367.5599999856,
           2660024.4399999883,
           5266893.060000047,
           9071357.440000037,
           2471674.0999999833,
           2374266.8799999817,
           2321830.559999987,
           4153377.09999999,
           8336239.6400000565,
           2471674.0999999833,
           2435842.739999985,
           2337409.9199999818,
           3183507.4199999874,
           5207038.840000048
          ],
          "colorscale": [
           [
            0,
            "rgb(103,0,31)"
           ],
           [
            0.1,
            "rgb(178,24,43)"
           ],
           [
            0.2,
            "rgb(214,96,77)"
           ],
           [
            0.3,
            "rgb(244,165,130)"
           ],
           [
            0.4,
            "rgb(253,219,199)"
           ],
           [
            0.5,
            "rgb(247,247,247)"
           ],
           [
            0.6,
            "rgb(209,229,240)"
           ],
           [
            0.7,
            "rgb(146,197,222)"
           ],
           [
            0.8,
            "rgb(67,147,195)"
           ],
           [
            0.9,
            "rgb(33,102,172)"
           ],
           [
            1,
            "rgb(5,48,97)"
           ]
          ],
          "opacity": 0.8,
          "size": 6
         },
         "mode": "markers",
         "name": "Cost",
         "type": "scatter3d",
         "x": [
          50,
          50,
          50,
          50,
          50,
          50,
          50,
          50,
          50,
          50,
          50,
          50,
          50,
          50,
          50,
          75,
          75,
          75,
          75,
          75,
          75,
          75,
          75,
          75,
          75,
          75,
          75,
          75,
          75,
          75,
          90,
          90,
          90,
          90,
          90,
          90,
          90,
          90,
          90,
          90,
          90,
          90,
          90,
          90,
          90,
          100,
          100,
          100,
          100,
          100,
          100,
          100,
          100,
          100,
          100,
          100,
          100,
          100,
          100,
          100,
          120,
          120,
          120,
          120,
          120,
          120,
          120,
          120,
          120,
          120,
          120,
          120,
          120,
          120,
          120,
          150,
          150,
          150,
          150,
          150,
          150,
          150,
          150,
          150,
          150,
          150,
          150,
          150,
          150,
          150,
          250,
          250,
          250,
          250,
          250,
          250,
          250,
          250,
          250,
          250,
          250,
          250,
          250,
          250,
          250,
          350,
          350,
          350,
          350,
          350,
          350,
          350,
          350,
          350,
          350,
          350,
          350,
          350,
          350,
          350,
          500,
          500,
          500,
          500,
          500,
          500,
          500,
          500,
          500,
          500,
          500,
          500,
          500,
          500,
          500
         ],
         "y": [
          0.1,
          0.1,
          0.1,
          0.1,
          0.1,
          0.01,
          0.01,
          0.01,
          0.01,
          0.01,
          0.001,
          0.001,
          0.001,
          0.001,
          0.001,
          0.1,
          0.1,
          0.1,
          0.1,
          0.1,
          0.01,
          0.01,
          0.01,
          0.01,
          0.01,
          0.001,
          0.001,
          0.001,
          0.001,
          0.001,
          0.1,
          0.1,
          0.1,
          0.1,
          0.1,
          0.01,
          0.01,
          0.01,
          0.01,
          0.01,
          0.001,
          0.001,
          0.001,
          0.001,
          0.001,
          0.1,
          0.1,
          0.1,
          0.1,
          0.1,
          0.01,
          0.01,
          0.01,
          0.01,
          0.01,
          0.001,
          0.001,
          0.001,
          0.001,
          0.001,
          0.1,
          0.1,
          0.1,
          0.1,
          0.1,
          0.01,
          0.01,
          0.01,
          0.01,
          0.01,
          0.001,
          0.001,
          0.001,
          0.001,
          0.001,
          0.1,
          0.1,
          0.1,
          0.1,
          0.1,
          0.01,
          0.01,
          0.01,
          0.01,
          0.01,
          0.001,
          0.001,
          0.001,
          0.001,
          0.001,
          0.1,
          0.1,
          0.1,
          0.1,
          0.1,
          0.01,
          0.01,
          0.01,
          0.01,
          0.01,
          0.001,
          0.001,
          0.001,
          0.001,
          0.001,
          0.1,
          0.1,
          0.1,
          0.1,
          0.1,
          0.01,
          0.01,
          0.01,
          0.01,
          0.01,
          0.001,
          0.001,
          0.001,
          0.001,
          0.001,
          0.1,
          0.1,
          0.1,
          0.1,
          0.1,
          0.01,
          0.01,
          0.01,
          0.01,
          0.01,
          0.001,
          0.001,
          0.001,
          0.001,
          0.001
         ],
         "z": [
          4,
          6,
          8,
          12,
          16,
          4,
          6,
          8,
          12,
          16,
          4,
          6,
          8,
          12,
          16,
          4,
          6,
          8,
          12,
          16,
          4,
          6,
          8,
          12,
          16,
          4,
          6,
          8,
          12,
          16,
          4,
          6,
          8,
          12,
          16,
          4,
          6,
          8,
          12,
          16,
          4,
          6,
          8,
          12,
          16,
          4,
          6,
          8,
          12,
          16,
          4,
          6,
          8,
          12,
          16,
          4,
          6,
          8,
          12,
          16,
          4,
          6,
          8,
          12,
          16,
          4,
          6,
          8,
          12,
          16,
          4,
          6,
          8,
          12,
          16,
          4,
          6,
          8,
          12,
          16,
          4,
          6,
          8,
          12,
          16,
          4,
          6,
          8,
          12,
          16,
          4,
          6,
          8,
          12,
          16,
          4,
          6,
          8,
          12,
          16,
          4,
          6,
          8,
          12,
          16,
          4,
          6,
          8,
          12,
          16,
          4,
          6,
          8,
          12,
          16,
          4,
          6,
          8,
          12,
          16,
          4,
          6,
          8,
          12,
          16,
          4,
          6,
          8,
          12,
          16,
          4,
          6,
          8,
          12,
          16
         ]
        },
        {
         "marker": {
          "color": "yellow",
          "colorscale": [
           [
            0,
            "rgb(103,0,31)"
           ],
           [
            0.1,
            "rgb(178,24,43)"
           ],
           [
            0.2,
            "rgb(214,96,77)"
           ],
           [
            0.3,
            "rgb(244,165,130)"
           ],
           [
            0.4,
            "rgb(253,219,199)"
           ],
           [
            0.5,
            "rgb(247,247,247)"
           ],
           [
            0.6,
            "rgb(209,229,240)"
           ],
           [
            0.7,
            "rgb(146,197,222)"
           ],
           [
            0.8,
            "rgb(67,147,195)"
           ],
           [
            0.9,
            "rgb(33,102,172)"
           ],
           [
            1,
            "rgb(5,48,97)"
           ]
          ],
          "opacity": 0.8,
          "size": 1.5,
          "symbol": "x"
         },
         "mode": "markers",
         "name": "Best Model",
         "type": "scatter3d",
         "x": [
          100
         ],
         "y": [
          0.01
         ],
         "z": [
          8
         ]
        }
       ],
       "layout": {
        "scene": {
         "annotations": [
          {
           "align": "center",
           "arrowcolor": "#000000",
           "arrowhead": 2,
           "arrowsize": 1,
           "arrowwidth": 2,
           "ax": -50,
           "ay": -20,
           "font": {
            "color": "#000000",
            "family": "Courier New, monospace",
            "size": 12
           },
           "opacity": 0.7,
           "showarrow": true,
           "text": "Best Model",
           "x": 100,
           "xanchor": "left",
           "y": 0.01,
           "z": 8
          }
         ],
         "xaxis": {
          "title": {
           "text": "Estimators"
          }
         },
         "yaxis": {
          "title": {
           "text": "Learning_rate"
          }
         },
         "zaxis": {
          "title": {
           "text": "max_depth of Base Learner"
          }
         }
        },
        "showlegend": false,
        "template": {
         "data": {
          "bar": [
           {
            "error_x": {
             "color": "#2a3f5f"
            },
            "error_y": {
             "color": "#2a3f5f"
            },
            "marker": {
             "line": {
              "color": "#E5ECF6",
              "width": 0.5
             }
            },
            "type": "bar"
           }
          ],
          "barpolar": [
           {
            "marker": {
             "line": {
              "color": "#E5ECF6",
              "width": 0.5
             }
            },
            "type": "barpolar"
           }
          ],
          "carpet": [
           {
            "aaxis": {
             "endlinecolor": "#2a3f5f",
             "gridcolor": "white",
             "linecolor": "white",
             "minorgridcolor": "white",
             "startlinecolor": "#2a3f5f"
            },
            "baxis": {
             "endlinecolor": "#2a3f5f",
             "gridcolor": "white",
             "linecolor": "white",
             "minorgridcolor": "white",
             "startlinecolor": "#2a3f5f"
            },
            "type": "carpet"
           }
          ],
          "choropleth": [
           {
            "colorbar": {
             "outlinewidth": 0,
             "ticks": ""
            },
            "type": "choropleth"
           }
          ],
          "contour": [
           {
            "colorbar": {
             "outlinewidth": 0,
             "ticks": ""
            },
            "colorscale": [
             [
              0,
              "#0d0887"
             ],
             [
              0.1111111111111111,
              "#46039f"
             ],
             [
              0.2222222222222222,
              "#7201a8"
             ],
             [
              0.3333333333333333,
              "#9c179e"
             ],
             [
              0.4444444444444444,
              "#bd3786"
             ],
             [
              0.5555555555555556,
              "#d8576b"
             ],
             [
              0.6666666666666666,
              "#ed7953"
             ],
             [
              0.7777777777777778,
              "#fb9f3a"
             ],
             [
              0.8888888888888888,
              "#fdca26"
             ],
             [
              1,
              "#f0f921"
             ]
            ],
            "type": "contour"
           }
          ],
          "contourcarpet": [
           {
            "colorbar": {
             "outlinewidth": 0,
             "ticks": ""
            },
            "type": "contourcarpet"
           }
          ],
          "heatmap": [
           {
            "colorbar": {
             "outlinewidth": 0,
             "ticks": ""
            },
            "colorscale": [
             [
              0,
              "#0d0887"
             ],
             [
              0.1111111111111111,
              "#46039f"
             ],
             [
              0.2222222222222222,
              "#7201a8"
             ],
             [
              0.3333333333333333,
              "#9c179e"
             ],
             [
              0.4444444444444444,
              "#bd3786"
             ],
             [
              0.5555555555555556,
              "#d8576b"
             ],
             [
              0.6666666666666666,
              "#ed7953"
             ],
             [
              0.7777777777777778,
              "#fb9f3a"
             ],
             [
              0.8888888888888888,
              "#fdca26"
             ],
             [
              1,
              "#f0f921"
             ]
            ],
            "type": "heatmap"
           }
          ],
          "heatmapgl": [
           {
            "colorbar": {
             "outlinewidth": 0,
             "ticks": ""
            },
            "colorscale": [
             [
              0,
              "#0d0887"
             ],
             [
              0.1111111111111111,
              "#46039f"
             ],
             [
              0.2222222222222222,
              "#7201a8"
             ],
             [
              0.3333333333333333,
              "#9c179e"
             ],
             [
              0.4444444444444444,
              "#bd3786"
             ],
             [
              0.5555555555555556,
              "#d8576b"
             ],
             [
              0.6666666666666666,
              "#ed7953"
             ],
             [
              0.7777777777777778,
              "#fb9f3a"
             ],
             [
              0.8888888888888888,
              "#fdca26"
             ],
             [
              1,
              "#f0f921"
             ]
            ],
            "type": "heatmapgl"
           }
          ],
          "histogram": [
           {
            "marker": {
             "colorbar": {
              "outlinewidth": 0,
              "ticks": ""
             }
            },
            "type": "histogram"
           }
          ],
          "histogram2d": [
           {
            "colorbar": {
             "outlinewidth": 0,
             "ticks": ""
            },
            "colorscale": [
             [
              0,
              "#0d0887"
             ],
             [
              0.1111111111111111,
              "#46039f"
             ],
             [
              0.2222222222222222,
              "#7201a8"
             ],
             [
              0.3333333333333333,
              "#9c179e"
             ],
             [
              0.4444444444444444,
              "#bd3786"
             ],
             [
              0.5555555555555556,
              "#d8576b"
             ],
             [
              0.6666666666666666,
              "#ed7953"
             ],
             [
              0.7777777777777778,
              "#fb9f3a"
             ],
             [
              0.8888888888888888,
              "#fdca26"
             ],
             [
              1,
              "#f0f921"
             ]
            ],
            "type": "histogram2d"
           }
          ],
          "histogram2dcontour": [
           {
            "colorbar": {
             "outlinewidth": 0,
             "ticks": ""
            },
            "colorscale": [
             [
              0,
              "#0d0887"
             ],
             [
              0.1111111111111111,
              "#46039f"
             ],
             [
              0.2222222222222222,
              "#7201a8"
             ],
             [
              0.3333333333333333,
              "#9c179e"
             ],
             [
              0.4444444444444444,
              "#bd3786"
             ],
             [
              0.5555555555555556,
              "#d8576b"
             ],
             [
              0.6666666666666666,
              "#ed7953"
             ],
             [
              0.7777777777777778,
              "#fb9f3a"
             ],
             [
              0.8888888888888888,
              "#fdca26"
             ],
             [
              1,
              "#f0f921"
             ]
            ],
            "type": "histogram2dcontour"
           }
          ],
          "mesh3d": [
           {
            "colorbar": {
             "outlinewidth": 0,
             "ticks": ""
            },
            "type": "mesh3d"
           }
          ],
          "parcoords": [
           {
            "line": {
             "colorbar": {
              "outlinewidth": 0,
              "ticks": ""
             }
            },
            "type": "parcoords"
           }
          ],
          "pie": [
           {
            "automargin": true,
            "type": "pie"
           }
          ],
          "scatter": [
           {
            "marker": {
             "colorbar": {
              "outlinewidth": 0,
              "ticks": ""
             }
            },
            "type": "scatter"
           }
          ],
          "scatter3d": [
           {
            "line": {
             "colorbar": {
              "outlinewidth": 0,
              "ticks": ""
             }
            },
            "marker": {
             "colorbar": {
              "outlinewidth": 0,
              "ticks": ""
             }
            },
            "type": "scatter3d"
           }
          ],
          "scattercarpet": [
           {
            "marker": {
             "colorbar": {
              "outlinewidth": 0,
              "ticks": ""
             }
            },
            "type": "scattercarpet"
           }
          ],
          "scattergeo": [
           {
            "marker": {
             "colorbar": {
              "outlinewidth": 0,
              "ticks": ""
             }
            },
            "type": "scattergeo"
           }
          ],
          "scattergl": [
           {
            "marker": {
             "colorbar": {
              "outlinewidth": 0,
              "ticks": ""
             }
            },
            "type": "scattergl"
           }
          ],
          "scattermapbox": [
           {
            "marker": {
             "colorbar": {
              "outlinewidth": 0,
              "ticks": ""
             }
            },
            "type": "scattermapbox"
           }
          ],
          "scatterpolar": [
           {
            "marker": {
             "colorbar": {
              "outlinewidth": 0,
              "ticks": ""
             }
            },
            "type": "scatterpolar"
           }
          ],
          "scatterpolargl": [
           {
            "marker": {
             "colorbar": {
              "outlinewidth": 0,
              "ticks": ""
             }
            },
            "type": "scatterpolargl"
           }
          ],
          "scatterternary": [
           {
            "marker": {
             "colorbar": {
              "outlinewidth": 0,
              "ticks": ""
             }
            },
            "type": "scatterternary"
           }
          ],
          "surface": [
           {
            "colorbar": {
             "outlinewidth": 0,
             "ticks": ""
            },
            "colorscale": [
             [
              0,
              "#0d0887"
             ],
             [
              0.1111111111111111,
              "#46039f"
             ],
             [
              0.2222222222222222,
              "#7201a8"
             ],
             [
              0.3333333333333333,
              "#9c179e"
             ],
             [
              0.4444444444444444,
              "#bd3786"
             ],
             [
              0.5555555555555556,
              "#d8576b"
             ],
             [
              0.6666666666666666,
              "#ed7953"
             ],
             [
              0.7777777777777778,
              "#fb9f3a"
             ],
             [
              0.8888888888888888,
              "#fdca26"
             ],
             [
              1,
              "#f0f921"
             ]
            ],
            "type": "surface"
           }
          ],
          "table": [
           {
            "cells": {
             "fill": {
              "color": "#EBF0F8"
             },
             "line": {
              "color": "white"
             }
            },
            "header": {
             "fill": {
              "color": "#C8D4E3"
             },
             "line": {
              "color": "white"
             }
            },
            "type": "table"
           }
          ]
         },
         "layout": {
          "annotationdefaults": {
           "arrowcolor": "#2a3f5f",
           "arrowhead": 0,
           "arrowwidth": 1
          },
          "coloraxis": {
           "colorbar": {
            "outlinewidth": 0,
            "ticks": ""
           }
          },
          "colorscale": {
           "diverging": [
            [
             0,
             "#8e0152"
            ],
            [
             0.1,
             "#c51b7d"
            ],
            [
             0.2,
             "#de77ae"
            ],
            [
             0.3,
             "#f1b6da"
            ],
            [
             0.4,
             "#fde0ef"
            ],
            [
             0.5,
             "#f7f7f7"
            ],
            [
             0.6,
             "#e6f5d0"
            ],
            [
             0.7,
             "#b8e186"
            ],
            [
             0.8,
             "#7fbc41"
            ],
            [
             0.9,
             "#4d9221"
            ],
            [
             1,
             "#276419"
            ]
           ],
           "sequential": [
            [
             0,
             "#0d0887"
            ],
            [
             0.1111111111111111,
             "#46039f"
            ],
            [
             0.2222222222222222,
             "#7201a8"
            ],
            [
             0.3333333333333333,
             "#9c179e"
            ],
            [
             0.4444444444444444,
             "#bd3786"
            ],
            [
             0.5555555555555556,
             "#d8576b"
            ],
            [
             0.6666666666666666,
             "#ed7953"
            ],
            [
             0.7777777777777778,
             "#fb9f3a"
            ],
            [
             0.8888888888888888,
             "#fdca26"
            ],
            [
             1,
             "#f0f921"
            ]
           ],
           "sequentialminus": [
            [
             0,
             "#0d0887"
            ],
            [
             0.1111111111111111,
             "#46039f"
            ],
            [
             0.2222222222222222,
             "#7201a8"
            ],
            [
             0.3333333333333333,
             "#9c179e"
            ],
            [
             0.4444444444444444,
             "#bd3786"
            ],
            [
             0.5555555555555556,
             "#d8576b"
            ],
            [
             0.6666666666666666,
             "#ed7953"
            ],
            [
             0.7777777777777778,
             "#fb9f3a"
            ],
            [
             0.8888888888888888,
             "#fdca26"
            ],
            [
             1,
             "#f0f921"
            ]
           ]
          },
          "colorway": [
           "#636efa",
           "#EF553B",
           "#00cc96",
           "#ab63fa",
           "#FFA15A",
           "#19d3f3",
           "#FF6692",
           "#B6E880",
           "#FF97FF",
           "#FECB52"
          ],
          "font": {
           "color": "#2a3f5f"
          },
          "geo": {
           "bgcolor": "white",
           "lakecolor": "white",
           "landcolor": "#E5ECF6",
           "showlakes": true,
           "showland": true,
           "subunitcolor": "white"
          },
          "hoverlabel": {
           "align": "left"
          },
          "hovermode": "closest",
          "mapbox": {
           "style": "light"
          },
          "paper_bgcolor": "white",
          "plot_bgcolor": "#E5ECF6",
          "polar": {
           "angularaxis": {
            "gridcolor": "white",
            "linecolor": "white",
            "ticks": ""
           },
           "bgcolor": "#E5ECF6",
           "radialaxis": {
            "gridcolor": "white",
            "linecolor": "white",
            "ticks": ""
           }
          },
          "scene": {
           "xaxis": {
            "backgroundcolor": "#E5ECF6",
            "gridcolor": "white",
            "gridwidth": 2,
            "linecolor": "white",
            "showbackground": true,
            "ticks": "",
            "zerolinecolor": "white"
           },
           "yaxis": {
            "backgroundcolor": "#E5ECF6",
            "gridcolor": "white",
            "gridwidth": 2,
            "linecolor": "white",
            "showbackground": true,
            "ticks": "",
            "zerolinecolor": "white"
           },
           "zaxis": {
            "backgroundcolor": "#E5ECF6",
            "gridcolor": "white",
            "gridwidth": 2,
            "linecolor": "white",
            "showbackground": true,
            "ticks": "",
            "zerolinecolor": "white"
           }
          },
          "shapedefaults": {
           "line": {
            "color": "#2a3f5f"
           }
          },
          "ternary": {
           "aaxis": {
            "gridcolor": "white",
            "linecolor": "white",
            "ticks": ""
           },
           "baxis": {
            "gridcolor": "white",
            "linecolor": "white",
            "ticks": ""
           },
           "bgcolor": "#E5ECF6",
           "caxis": {
            "gridcolor": "white",
            "linecolor": "white",
            "ticks": ""
           }
          },
          "title": {
           "x": 0.05
          },
          "xaxis": {
           "automargin": true,
           "gridcolor": "white",
           "linecolor": "white",
           "ticks": "",
           "title": {
            "standoff": 15
           },
           "zerolinecolor": "white",
           "zerolinewidth": 2
          },
          "yaxis": {
           "automargin": true,
           "gridcolor": "white",
           "linecolor": "white",
           "ticks": "",
           "title": {
            "standoff": 15
           },
           "zerolinecolor": "white",
           "zerolinewidth": 2
          }
         }
        }
       }
      }
     },
     "metadata": {},
     "output_type": "display_data"
    }
   ],
   "source": [
    "fig = go.Figure()\n",
    "fig.add_trace(go.Scatter3d(x=df_ref.estimators, y=df_ref.learning_rate, z=df_ref.max_depth, name = \"Cost\", \n",
    "        mode='markers',\n",
    "        marker=dict(\n",
    "        size=6,\n",
    "        color=df_ref[\"cost\"],  # set color to an array/list of desired values\n",
    "        colorscale='RdBu',   # choose a colorscale\n",
    "        opacity=0.8), hovertemplate=\"estimators: %{x}<br>learning_rate: %{y} <br>max_depth: %{z}<extra></extra>\")\n",
    "    ),\n",
    "                 \n",
    "fig.add_trace(go.Scatter3d(x=[100], y=[0.01], z=[8], name = \"Best Model\",marker_symbol=\"x\",\n",
    "        mode='markers',\n",
    "        marker=dict(\n",
    "        size=1.5,\n",
    "        color=\"yellow\",  # set color to an array/list of desired values\n",
    "        colorscale='RdBu',   # choose a colorscale\n",
    "        opacity=0.8)\n",
    "    ),\n",
    "                 )\n",
    "    \n",
    "    #data = [data1]\n",
    "    #fig = dict(data=data)\n",
    "fig.update_layout(\n",
    "                        showlegend=False,scene = dict(\n",
    "                    xaxis_title='Estimators',\n",
    "                    yaxis_title='Learning_rate',\n",
    "                    zaxis_title='max_depth of Base Learner',\n",
    "                    annotations=[dict(\n",
    "                            showarrow=True,\n",
    "                        font=dict(\n",
    "                        family=\"Courier New, monospace\",\n",
    "                        size=12,\n",
    "                        color=\"#000000\"\n",
    "                        ),\n",
    "                            x=100,\n",
    "                            y=0.01,\n",
    "                            z=8,\n",
    "                            text=\"Best Model\",\n",
    "                            xanchor=\"left\",\n",
    "                            opacity=0.7,\n",
    "                            align=\"center\",\n",
    "                            arrowhead=2,\n",
    "                            arrowsize=1,\n",
    "                            arrowwidth=2,\n",
    "                            arrowcolor=\"#000000\",\n",
    "                            ax=-50,\n",
    "                            ay=-20,\n",
    "                        \n",
    "                                                            )]))\n",
    "iplot(fig)"
   ]
  },
  {
   "cell_type": "code",
   "execution_count": 6,
   "metadata": {},
   "outputs": [
    {
     "data": {
      "application/vnd.plotly.v1+json": {
       "config": {
        "linkText": "Export to plot.ly",
        "plotlyServerURL": "https://plot.ly",
        "showLink": false
       },
       "data": [
        {
         "hovertemplate": "estimators: %{x}<br>learning_rate: %{y} <br>max_depth: %{z}<extra></extra>",
         "marker": {
          "color": [
           2471674.0999999833,
           2560777.0599999856,
           2576980.539999984,
           5098394.580000039,
           9034025.020000046,
           2471674.0999999833,
           2445081.439999985,
           2353125.5399999805,
           3194777.299999985,
           5151167.44000004,
           2471674.0999999833,
           2471674.0999999833,
           2471674.0999999833,
           2471674.0999999833,
           2471674.0999999833,
           2471674.0999999833,
           2566367.5599999856,
           2612619.919999985,
           5096609.340000042,
           9013107.58000004,
           2471674.0999999833,
           2396123.8199999845,
           2284289.859999987,
           3384749.7199999867,
           6295279.7600000575,
           2471674.0999999833,
           2471674.0999999833,
           2471674.0999999833,
           2471674.0999999833,
           2471674.0999999833,
           2471674.0999999833,
           2566367.5599999856,
           2648036.259999986,
           5140935.900000041,
           9242690.92000004,
           2471674.0999999833,
           2371045.939999983,
           2260296.6999999867,
           3610136.279999992,
           6743536.12000006,
           2471674.0999999833,
           2471674.0999999833,
           2471674.0999999833,
           2471674.0999999833,
           2471674.0999999833,
           2471674.0999999833,
           2566367.5599999856,
           2633603.119999986,
           5155774.500000038,
           8772959.580000058,
           2471674.0999999833,
           2392352.2399999816,
           2246289.7199999844,
           3641692.8399999854,
           7200847.440000063,
           2471674.0999999833,
           2471674.0999999833,
           2471674.0999999833,
           2471674.0999999833,
           2471674.0999999833,
           2471674.0999999833,
           2566367.5599999856,
           2680978.279999988,
           5096427.740000041,
           9091406.040000053,
           2471674.0999999833,
           2417171.259999985,
           2289784.279999988,
           3801764.079999989,
           7530640.180000065,
           2471674.0999999833,
           2471674.0999999833,
           2471674.0999999833,
           2471674.0999999833,
           2471674.0999999833,
           2471674.0999999833,
           2566367.5599999856,
           2653190.279999986,
           5357264.02000005,
           8877985.660000045,
           2471674.0999999833,
           2410362.759999984,
           2310087.9999999846,
           3822849.639999989,
           7923105.320000063,
           2471674.0999999833,
           2471674.0999999833,
           2471674.0999999833,
           2471674.0999999833,
           2471674.0999999833,
           2471674.0999999833,
           2566367.5599999856,
           2589968.0399999856,
           5281372.800000051,
           9067761.940000044,
           2471674.0999999833,
           2364604.6199999824,
           2308495.239999986,
           4186229.3999999873,
           8058929.460000054,
           2471674.0999999833,
           2471674.0999999833,
           2473102.0999999833,
           2752469.0999999875,
           2471674.0999999833,
           2471674.0999999833,
           2566367.5599999856,
           2668493.7999999886,
           5104384.7000000365,
           8872603.84000005,
           2471674.0999999833,
           2370540.039999981,
           2324890.619999986,
           3973971.139999987,
           8235079.300000058,
           2471674.0999999833,
           2471674.0999999833,
           2412395.059999984,
           2748814.259999989,
           4268078.979999995,
           2471674.0999999833,
           2566367.5599999856,
           2660024.4399999883,
           5266893.060000047,
           9071357.440000037,
           2471674.0999999833,
           2374266.8799999817,
           2321830.559999987,
           4153377.09999999,
           8336239.6400000565,
           2471674.0999999833,
           2435842.739999985,
           2337409.9199999818,
           3183507.4199999874,
           5207038.840000048
          ],
          "colorscale": [
           [
            0,
            "rgb(103,0,31)"
           ],
           [
            0.1,
            "rgb(178,24,43)"
           ],
           [
            0.2,
            "rgb(214,96,77)"
           ],
           [
            0.3,
            "rgb(244,165,130)"
           ],
           [
            0.4,
            "rgb(253,219,199)"
           ],
           [
            0.5,
            "rgb(247,247,247)"
           ],
           [
            0.6,
            "rgb(209,229,240)"
           ],
           [
            0.7,
            "rgb(146,197,222)"
           ],
           [
            0.8,
            "rgb(67,147,195)"
           ],
           [
            0.9,
            "rgb(33,102,172)"
           ],
           [
            1,
            "rgb(5,48,97)"
           ]
          ],
          "opacity": 0.8,
          "size": 6
         },
         "mode": "markers",
         "name": "Cost",
         "type": "scatter3d",
         "x": [
          50,
          50,
          50,
          50,
          50,
          50,
          50,
          50,
          50,
          50,
          50,
          50,
          50,
          50,
          50,
          75,
          75,
          75,
          75,
          75,
          75,
          75,
          75,
          75,
          75,
          75,
          75,
          75,
          75,
          75,
          90,
          90,
          90,
          90,
          90,
          90,
          90,
          90,
          90,
          90,
          90,
          90,
          90,
          90,
          90,
          100,
          100,
          100,
          100,
          100,
          100,
          100,
          100,
          100,
          100,
          100,
          100,
          100,
          100,
          100,
          120,
          120,
          120,
          120,
          120,
          120,
          120,
          120,
          120,
          120,
          120,
          120,
          120,
          120,
          120,
          150,
          150,
          150,
          150,
          150,
          150,
          150,
          150,
          150,
          150,
          150,
          150,
          150,
          150,
          150,
          250,
          250,
          250,
          250,
          250,
          250,
          250,
          250,
          250,
          250,
          250,
          250,
          250,
          250,
          250,
          350,
          350,
          350,
          350,
          350,
          350,
          350,
          350,
          350,
          350,
          350,
          350,
          350,
          350,
          350,
          500,
          500,
          500,
          500,
          500,
          500,
          500,
          500,
          500,
          500,
          500,
          500,
          500,
          500,
          500
         ],
         "y": [
          0.1,
          0.1,
          0.1,
          0.1,
          0.1,
          0.01,
          0.01,
          0.01,
          0.01,
          0.01,
          0.001,
          0.001,
          0.001,
          0.001,
          0.001,
          0.1,
          0.1,
          0.1,
          0.1,
          0.1,
          0.01,
          0.01,
          0.01,
          0.01,
          0.01,
          0.001,
          0.001,
          0.001,
          0.001,
          0.001,
          0.1,
          0.1,
          0.1,
          0.1,
          0.1,
          0.01,
          0.01,
          0.01,
          0.01,
          0.01,
          0.001,
          0.001,
          0.001,
          0.001,
          0.001,
          0.1,
          0.1,
          0.1,
          0.1,
          0.1,
          0.01,
          0.01,
          0.01,
          0.01,
          0.01,
          0.001,
          0.001,
          0.001,
          0.001,
          0.001,
          0.1,
          0.1,
          0.1,
          0.1,
          0.1,
          0.01,
          0.01,
          0.01,
          0.01,
          0.01,
          0.001,
          0.001,
          0.001,
          0.001,
          0.001,
          0.1,
          0.1,
          0.1,
          0.1,
          0.1,
          0.01,
          0.01,
          0.01,
          0.01,
          0.01,
          0.001,
          0.001,
          0.001,
          0.001,
          0.001,
          0.1,
          0.1,
          0.1,
          0.1,
          0.1,
          0.01,
          0.01,
          0.01,
          0.01,
          0.01,
          0.001,
          0.001,
          0.001,
          0.001,
          0.001,
          0.1,
          0.1,
          0.1,
          0.1,
          0.1,
          0.01,
          0.01,
          0.01,
          0.01,
          0.01,
          0.001,
          0.001,
          0.001,
          0.001,
          0.001,
          0.1,
          0.1,
          0.1,
          0.1,
          0.1,
          0.01,
          0.01,
          0.01,
          0.01,
          0.01,
          0.001,
          0.001,
          0.001,
          0.001,
          0.001
         ],
         "z": [
          4,
          6,
          8,
          12,
          16,
          4,
          6,
          8,
          12,
          16,
          4,
          6,
          8,
          12,
          16,
          4,
          6,
          8,
          12,
          16,
          4,
          6,
          8,
          12,
          16,
          4,
          6,
          8,
          12,
          16,
          4,
          6,
          8,
          12,
          16,
          4,
          6,
          8,
          12,
          16,
          4,
          6,
          8,
          12,
          16,
          4,
          6,
          8,
          12,
          16,
          4,
          6,
          8,
          12,
          16,
          4,
          6,
          8,
          12,
          16,
          4,
          6,
          8,
          12,
          16,
          4,
          6,
          8,
          12,
          16,
          4,
          6,
          8,
          12,
          16,
          4,
          6,
          8,
          12,
          16,
          4,
          6,
          8,
          12,
          16,
          4,
          6,
          8,
          12,
          16,
          4,
          6,
          8,
          12,
          16,
          4,
          6,
          8,
          12,
          16,
          4,
          6,
          8,
          12,
          16,
          4,
          6,
          8,
          12,
          16,
          4,
          6,
          8,
          12,
          16,
          4,
          6,
          8,
          12,
          16,
          4,
          6,
          8,
          12,
          16,
          4,
          6,
          8,
          12,
          16,
          4,
          6,
          8,
          12,
          16
         ]
        },
        {
         "marker": {
          "color": "yellow",
          "colorscale": [
           [
            0,
            "rgb(103,0,31)"
           ],
           [
            0.1,
            "rgb(178,24,43)"
           ],
           [
            0.2,
            "rgb(214,96,77)"
           ],
           [
            0.3,
            "rgb(244,165,130)"
           ],
           [
            0.4,
            "rgb(253,219,199)"
           ],
           [
            0.5,
            "rgb(247,247,247)"
           ],
           [
            0.6,
            "rgb(209,229,240)"
           ],
           [
            0.7,
            "rgb(146,197,222)"
           ],
           [
            0.8,
            "rgb(67,147,195)"
           ],
           [
            0.9,
            "rgb(33,102,172)"
           ],
           [
            1,
            "rgb(5,48,97)"
           ]
          ],
          "opacity": 0.8,
          "size": 1.5,
          "symbol": "x"
         },
         "mode": "markers",
         "name": "Best Model",
         "type": "scatter3d",
         "x": [
          100
         ],
         "y": [
          0.01
         ],
         "z": [
          8
         ]
        }
       ],
       "layout": {
        "scene": {
         "annotations": [
          {
           "align": "center",
           "arrowcolor": "#000000",
           "arrowhead": 2,
           "arrowsize": 1,
           "arrowwidth": 2,
           "ax": -50,
           "ay": -20,
           "font": {
            "color": "#000000",
            "family": "Courier New, monospace",
            "size": 12
           },
           "opacity": 0.7,
           "showarrow": true,
           "text": "Best Model",
           "x": 100,
           "xanchor": "left",
           "y": 0.01,
           "z": 8
          }
         ],
         "xaxis": {
          "title": {
           "text": "Estimators"
          }
         },
         "yaxis": {
          "title": {
           "text": "Learning_rate"
          }
         },
         "zaxis": {
          "title": {
           "text": "max_depth of Base Learner"
          }
         }
        },
        "showlegend": false,
        "template": {
         "data": {
          "bar": [
           {
            "error_x": {
             "color": "#2a3f5f"
            },
            "error_y": {
             "color": "#2a3f5f"
            },
            "marker": {
             "line": {
              "color": "#E5ECF6",
              "width": 0.5
             }
            },
            "type": "bar"
           }
          ],
          "barpolar": [
           {
            "marker": {
             "line": {
              "color": "#E5ECF6",
              "width": 0.5
             }
            },
            "type": "barpolar"
           }
          ],
          "carpet": [
           {
            "aaxis": {
             "endlinecolor": "#2a3f5f",
             "gridcolor": "white",
             "linecolor": "white",
             "minorgridcolor": "white",
             "startlinecolor": "#2a3f5f"
            },
            "baxis": {
             "endlinecolor": "#2a3f5f",
             "gridcolor": "white",
             "linecolor": "white",
             "minorgridcolor": "white",
             "startlinecolor": "#2a3f5f"
            },
            "type": "carpet"
           }
          ],
          "choropleth": [
           {
            "colorbar": {
             "outlinewidth": 0,
             "ticks": ""
            },
            "type": "choropleth"
           }
          ],
          "contour": [
           {
            "colorbar": {
             "outlinewidth": 0,
             "ticks": ""
            },
            "colorscale": [
             [
              0,
              "#0d0887"
             ],
             [
              0.1111111111111111,
              "#46039f"
             ],
             [
              0.2222222222222222,
              "#7201a8"
             ],
             [
              0.3333333333333333,
              "#9c179e"
             ],
             [
              0.4444444444444444,
              "#bd3786"
             ],
             [
              0.5555555555555556,
              "#d8576b"
             ],
             [
              0.6666666666666666,
              "#ed7953"
             ],
             [
              0.7777777777777778,
              "#fb9f3a"
             ],
             [
              0.8888888888888888,
              "#fdca26"
             ],
             [
              1,
              "#f0f921"
             ]
            ],
            "type": "contour"
           }
          ],
          "contourcarpet": [
           {
            "colorbar": {
             "outlinewidth": 0,
             "ticks": ""
            },
            "type": "contourcarpet"
           }
          ],
          "heatmap": [
           {
            "colorbar": {
             "outlinewidth": 0,
             "ticks": ""
            },
            "colorscale": [
             [
              0,
              "#0d0887"
             ],
             [
              0.1111111111111111,
              "#46039f"
             ],
             [
              0.2222222222222222,
              "#7201a8"
             ],
             [
              0.3333333333333333,
              "#9c179e"
             ],
             [
              0.4444444444444444,
              "#bd3786"
             ],
             [
              0.5555555555555556,
              "#d8576b"
             ],
             [
              0.6666666666666666,
              "#ed7953"
             ],
             [
              0.7777777777777778,
              "#fb9f3a"
             ],
             [
              0.8888888888888888,
              "#fdca26"
             ],
             [
              1,
              "#f0f921"
             ]
            ],
            "type": "heatmap"
           }
          ],
          "heatmapgl": [
           {
            "colorbar": {
             "outlinewidth": 0,
             "ticks": ""
            },
            "colorscale": [
             [
              0,
              "#0d0887"
             ],
             [
              0.1111111111111111,
              "#46039f"
             ],
             [
              0.2222222222222222,
              "#7201a8"
             ],
             [
              0.3333333333333333,
              "#9c179e"
             ],
             [
              0.4444444444444444,
              "#bd3786"
             ],
             [
              0.5555555555555556,
              "#d8576b"
             ],
             [
              0.6666666666666666,
              "#ed7953"
             ],
             [
              0.7777777777777778,
              "#fb9f3a"
             ],
             [
              0.8888888888888888,
              "#fdca26"
             ],
             [
              1,
              "#f0f921"
             ]
            ],
            "type": "heatmapgl"
           }
          ],
          "histogram": [
           {
            "marker": {
             "colorbar": {
              "outlinewidth": 0,
              "ticks": ""
             }
            },
            "type": "histogram"
           }
          ],
          "histogram2d": [
           {
            "colorbar": {
             "outlinewidth": 0,
             "ticks": ""
            },
            "colorscale": [
             [
              0,
              "#0d0887"
             ],
             [
              0.1111111111111111,
              "#46039f"
             ],
             [
              0.2222222222222222,
              "#7201a8"
             ],
             [
              0.3333333333333333,
              "#9c179e"
             ],
             [
              0.4444444444444444,
              "#bd3786"
             ],
             [
              0.5555555555555556,
              "#d8576b"
             ],
             [
              0.6666666666666666,
              "#ed7953"
             ],
             [
              0.7777777777777778,
              "#fb9f3a"
             ],
             [
              0.8888888888888888,
              "#fdca26"
             ],
             [
              1,
              "#f0f921"
             ]
            ],
            "type": "histogram2d"
           }
          ],
          "histogram2dcontour": [
           {
            "colorbar": {
             "outlinewidth": 0,
             "ticks": ""
            },
            "colorscale": [
             [
              0,
              "#0d0887"
             ],
             [
              0.1111111111111111,
              "#46039f"
             ],
             [
              0.2222222222222222,
              "#7201a8"
             ],
             [
              0.3333333333333333,
              "#9c179e"
             ],
             [
              0.4444444444444444,
              "#bd3786"
             ],
             [
              0.5555555555555556,
              "#d8576b"
             ],
             [
              0.6666666666666666,
              "#ed7953"
             ],
             [
              0.7777777777777778,
              "#fb9f3a"
             ],
             [
              0.8888888888888888,
              "#fdca26"
             ],
             [
              1,
              "#f0f921"
             ]
            ],
            "type": "histogram2dcontour"
           }
          ],
          "mesh3d": [
           {
            "colorbar": {
             "outlinewidth": 0,
             "ticks": ""
            },
            "type": "mesh3d"
           }
          ],
          "parcoords": [
           {
            "line": {
             "colorbar": {
              "outlinewidth": 0,
              "ticks": ""
             }
            },
            "type": "parcoords"
           }
          ],
          "pie": [
           {
            "automargin": true,
            "type": "pie"
           }
          ],
          "scatter": [
           {
            "marker": {
             "colorbar": {
              "outlinewidth": 0,
              "ticks": ""
             }
            },
            "type": "scatter"
           }
          ],
          "scatter3d": [
           {
            "line": {
             "colorbar": {
              "outlinewidth": 0,
              "ticks": ""
             }
            },
            "marker": {
             "colorbar": {
              "outlinewidth": 0,
              "ticks": ""
             }
            },
            "type": "scatter3d"
           }
          ],
          "scattercarpet": [
           {
            "marker": {
             "colorbar": {
              "outlinewidth": 0,
              "ticks": ""
             }
            },
            "type": "scattercarpet"
           }
          ],
          "scattergeo": [
           {
            "marker": {
             "colorbar": {
              "outlinewidth": 0,
              "ticks": ""
             }
            },
            "type": "scattergeo"
           }
          ],
          "scattergl": [
           {
            "marker": {
             "colorbar": {
              "outlinewidth": 0,
              "ticks": ""
             }
            },
            "type": "scattergl"
           }
          ],
          "scattermapbox": [
           {
            "marker": {
             "colorbar": {
              "outlinewidth": 0,
              "ticks": ""
             }
            },
            "type": "scattermapbox"
           }
          ],
          "scatterpolar": [
           {
            "marker": {
             "colorbar": {
              "outlinewidth": 0,
              "ticks": ""
             }
            },
            "type": "scatterpolar"
           }
          ],
          "scatterpolargl": [
           {
            "marker": {
             "colorbar": {
              "outlinewidth": 0,
              "ticks": ""
             }
            },
            "type": "scatterpolargl"
           }
          ],
          "scatterternary": [
           {
            "marker": {
             "colorbar": {
              "outlinewidth": 0,
              "ticks": ""
             }
            },
            "type": "scatterternary"
           }
          ],
          "surface": [
           {
            "colorbar": {
             "outlinewidth": 0,
             "ticks": ""
            },
            "colorscale": [
             [
              0,
              "#0d0887"
             ],
             [
              0.1111111111111111,
              "#46039f"
             ],
             [
              0.2222222222222222,
              "#7201a8"
             ],
             [
              0.3333333333333333,
              "#9c179e"
             ],
             [
              0.4444444444444444,
              "#bd3786"
             ],
             [
              0.5555555555555556,
              "#d8576b"
             ],
             [
              0.6666666666666666,
              "#ed7953"
             ],
             [
              0.7777777777777778,
              "#fb9f3a"
             ],
             [
              0.8888888888888888,
              "#fdca26"
             ],
             [
              1,
              "#f0f921"
             ]
            ],
            "type": "surface"
           }
          ],
          "table": [
           {
            "cells": {
             "fill": {
              "color": "#EBF0F8"
             },
             "line": {
              "color": "white"
             }
            },
            "header": {
             "fill": {
              "color": "#C8D4E3"
             },
             "line": {
              "color": "white"
             }
            },
            "type": "table"
           }
          ]
         },
         "layout": {
          "annotationdefaults": {
           "arrowcolor": "#2a3f5f",
           "arrowhead": 0,
           "arrowwidth": 1
          },
          "coloraxis": {
           "colorbar": {
            "outlinewidth": 0,
            "ticks": ""
           }
          },
          "colorscale": {
           "diverging": [
            [
             0,
             "#8e0152"
            ],
            [
             0.1,
             "#c51b7d"
            ],
            [
             0.2,
             "#de77ae"
            ],
            [
             0.3,
             "#f1b6da"
            ],
            [
             0.4,
             "#fde0ef"
            ],
            [
             0.5,
             "#f7f7f7"
            ],
            [
             0.6,
             "#e6f5d0"
            ],
            [
             0.7,
             "#b8e186"
            ],
            [
             0.8,
             "#7fbc41"
            ],
            [
             0.9,
             "#4d9221"
            ],
            [
             1,
             "#276419"
            ]
           ],
           "sequential": [
            [
             0,
             "#0d0887"
            ],
            [
             0.1111111111111111,
             "#46039f"
            ],
            [
             0.2222222222222222,
             "#7201a8"
            ],
            [
             0.3333333333333333,
             "#9c179e"
            ],
            [
             0.4444444444444444,
             "#bd3786"
            ],
            [
             0.5555555555555556,
             "#d8576b"
            ],
            [
             0.6666666666666666,
             "#ed7953"
            ],
            [
             0.7777777777777778,
             "#fb9f3a"
            ],
            [
             0.8888888888888888,
             "#fdca26"
            ],
            [
             1,
             "#f0f921"
            ]
           ],
           "sequentialminus": [
            [
             0,
             "#0d0887"
            ],
            [
             0.1111111111111111,
             "#46039f"
            ],
            [
             0.2222222222222222,
             "#7201a8"
            ],
            [
             0.3333333333333333,
             "#9c179e"
            ],
            [
             0.4444444444444444,
             "#bd3786"
            ],
            [
             0.5555555555555556,
             "#d8576b"
            ],
            [
             0.6666666666666666,
             "#ed7953"
            ],
            [
             0.7777777777777778,
             "#fb9f3a"
            ],
            [
             0.8888888888888888,
             "#fdca26"
            ],
            [
             1,
             "#f0f921"
            ]
           ]
          },
          "colorway": [
           "#636efa",
           "#EF553B",
           "#00cc96",
           "#ab63fa",
           "#FFA15A",
           "#19d3f3",
           "#FF6692",
           "#B6E880",
           "#FF97FF",
           "#FECB52"
          ],
          "font": {
           "color": "#2a3f5f"
          },
          "geo": {
           "bgcolor": "white",
           "lakecolor": "white",
           "landcolor": "#E5ECF6",
           "showlakes": true,
           "showland": true,
           "subunitcolor": "white"
          },
          "hoverlabel": {
           "align": "left"
          },
          "hovermode": "closest",
          "mapbox": {
           "style": "light"
          },
          "paper_bgcolor": "white",
          "plot_bgcolor": "#E5ECF6",
          "polar": {
           "angularaxis": {
            "gridcolor": "white",
            "linecolor": "white",
            "ticks": ""
           },
           "bgcolor": "#E5ECF6",
           "radialaxis": {
            "gridcolor": "white",
            "linecolor": "white",
            "ticks": ""
           }
          },
          "scene": {
           "xaxis": {
            "backgroundcolor": "#E5ECF6",
            "gridcolor": "white",
            "gridwidth": 2,
            "linecolor": "white",
            "showbackground": true,
            "ticks": "",
            "zerolinecolor": "white"
           },
           "yaxis": {
            "backgroundcolor": "#E5ECF6",
            "gridcolor": "white",
            "gridwidth": 2,
            "linecolor": "white",
            "showbackground": true,
            "ticks": "",
            "zerolinecolor": "white"
           },
           "zaxis": {
            "backgroundcolor": "#E5ECF6",
            "gridcolor": "white",
            "gridwidth": 2,
            "linecolor": "white",
            "showbackground": true,
            "ticks": "",
            "zerolinecolor": "white"
           }
          },
          "shapedefaults": {
           "line": {
            "color": "#2a3f5f"
           }
          },
          "ternary": {
           "aaxis": {
            "gridcolor": "white",
            "linecolor": "white",
            "ticks": ""
           },
           "baxis": {
            "gridcolor": "white",
            "linecolor": "white",
            "ticks": ""
           },
           "bgcolor": "#E5ECF6",
           "caxis": {
            "gridcolor": "white",
            "linecolor": "white",
            "ticks": ""
           }
          },
          "title": {
           "x": 0.05
          },
          "xaxis": {
           "automargin": true,
           "gridcolor": "white",
           "linecolor": "white",
           "ticks": "",
           "title": {
            "standoff": 15
           },
           "zerolinecolor": "white",
           "zerolinewidth": 2
          },
          "yaxis": {
           "automargin": true,
           "gridcolor": "white",
           "linecolor": "white",
           "ticks": "",
           "title": {
            "standoff": 15
           },
           "zerolinecolor": "white",
           "zerolinewidth": 2
          }
         }
        }
       }
      }
     },
     "metadata": {},
     "output_type": "display_data"
    }
   ],
   "source": [
    "plot_4d(df_ref, \"cost\")"
   ]
  },
  {
   "cell_type": "code",
   "execution_count": 7,
   "metadata": {},
   "outputs": [
    {
     "data": {
      "text/html": [
       "<div>\n",
       "<style scoped>\n",
       "    .dataframe tbody tr th:only-of-type {\n",
       "        vertical-align: middle;\n",
       "    }\n",
       "\n",
       "    .dataframe tbody tr th {\n",
       "        vertical-align: top;\n",
       "    }\n",
       "\n",
       "    .dataframe thead th {\n",
       "        text-align: right;\n",
       "    }\n",
       "</style>\n",
       "<table border=\"1\" class=\"dataframe\">\n",
       "  <thead>\n",
       "    <tr style=\"text-align: right;\">\n",
       "      <th></th>\n",
       "      <th>hyperparams</th>\n",
       "      <th>estimators</th>\n",
       "      <th>learning_rate</th>\n",
       "      <th>max_depth</th>\n",
       "      <th>threshold</th>\n",
       "      <th>cost</th>\n",
       "      <th>count_zero</th>\n",
       "      <th>count_one</th>\n",
       "      <th>train_auc</th>\n",
       "      <th>test_auc</th>\n",
       "    </tr>\n",
       "  </thead>\n",
       "  <tbody>\n",
       "    <tr>\n",
       "      <th>1</th>\n",
       "      <td>NGBClassifier(Base=DecisionTreeRegressor(ccp_a...</td>\n",
       "      <td>50</td>\n",
       "      <td>0.100</td>\n",
       "      <td>4</td>\n",
       "      <td>0.25</td>\n",
       "      <td>2471674.10</td>\n",
       "      <td>NaN</td>\n",
       "      <td>NaN</td>\n",
       "      <td>0.832992</td>\n",
       "      <td>0.829108</td>\n",
       "    </tr>\n",
       "    <tr>\n",
       "      <th>6</th>\n",
       "      <td>NGBClassifier(Base=DecisionTreeRegressor(ccp_a...</td>\n",
       "      <td>50</td>\n",
       "      <td>0.100</td>\n",
       "      <td>6</td>\n",
       "      <td>0.25</td>\n",
       "      <td>2560777.06</td>\n",
       "      <td>NaN</td>\n",
       "      <td>NaN</td>\n",
       "      <td>0.836678</td>\n",
       "      <td>0.825526</td>\n",
       "    </tr>\n",
       "    <tr>\n",
       "      <th>11</th>\n",
       "      <td>NGBClassifier(Base=DecisionTreeRegressor(ccp_a...</td>\n",
       "      <td>50</td>\n",
       "      <td>0.100</td>\n",
       "      <td>8</td>\n",
       "      <td>0.25</td>\n",
       "      <td>2576980.54</td>\n",
       "      <td>NaN</td>\n",
       "      <td>NaN</td>\n",
       "      <td>0.854015</td>\n",
       "      <td>0.818639</td>\n",
       "    </tr>\n",
       "    <tr>\n",
       "      <th>16</th>\n",
       "      <td>NGBClassifier(Base=DecisionTreeRegressor(ccp_a...</td>\n",
       "      <td>50</td>\n",
       "      <td>0.100</td>\n",
       "      <td>12</td>\n",
       "      <td>0.25</td>\n",
       "      <td>5098394.58</td>\n",
       "      <td>NaN</td>\n",
       "      <td>NaN</td>\n",
       "      <td>0.941113</td>\n",
       "      <td>0.756073</td>\n",
       "    </tr>\n",
       "    <tr>\n",
       "      <th>21</th>\n",
       "      <td>NGBClassifier(Base=DecisionTreeRegressor(ccp_a...</td>\n",
       "      <td>50</td>\n",
       "      <td>0.100</td>\n",
       "      <td>16</td>\n",
       "      <td>0.25</td>\n",
       "      <td>9034025.02</td>\n",
       "      <td>NaN</td>\n",
       "      <td>NaN</td>\n",
       "      <td>0.994480</td>\n",
       "      <td>0.733789</td>\n",
       "    </tr>\n",
       "    <tr>\n",
       "      <th>...</th>\n",
       "      <td>...</td>\n",
       "      <td>...</td>\n",
       "      <td>...</td>\n",
       "      <td>...</td>\n",
       "      <td>...</td>\n",
       "      <td>...</td>\n",
       "      <td>...</td>\n",
       "      <td>...</td>\n",
       "      <td>...</td>\n",
       "      <td>...</td>\n",
       "    </tr>\n",
       "    <tr>\n",
       "      <th>651</th>\n",
       "      <td>NGBClassifier(Base=DecisionTreeRegressor(ccp_a...</td>\n",
       "      <td>500</td>\n",
       "      <td>0.001</td>\n",
       "      <td>4</td>\n",
       "      <td>0.25</td>\n",
       "      <td>2471674.10</td>\n",
       "      <td>NaN</td>\n",
       "      <td>NaN</td>\n",
       "      <td>0.827465</td>\n",
       "      <td>0.825104</td>\n",
       "    </tr>\n",
       "    <tr>\n",
       "      <th>656</th>\n",
       "      <td>NGBClassifier(Base=DecisionTreeRegressor(ccp_a...</td>\n",
       "      <td>500</td>\n",
       "      <td>0.001</td>\n",
       "      <td>6</td>\n",
       "      <td>0.25</td>\n",
       "      <td>2435842.74</td>\n",
       "      <td>NaN</td>\n",
       "      <td>NaN</td>\n",
       "      <td>0.830069</td>\n",
       "      <td>0.823181</td>\n",
       "    </tr>\n",
       "    <tr>\n",
       "      <th>661</th>\n",
       "      <td>NGBClassifier(Base=DecisionTreeRegressor(ccp_a...</td>\n",
       "      <td>500</td>\n",
       "      <td>0.001</td>\n",
       "      <td>8</td>\n",
       "      <td>0.25</td>\n",
       "      <td>2337409.92</td>\n",
       "      <td>NaN</td>\n",
       "      <td>NaN</td>\n",
       "      <td>0.842499</td>\n",
       "      <td>0.825558</td>\n",
       "    </tr>\n",
       "    <tr>\n",
       "      <th>666</th>\n",
       "      <td>NGBClassifier(Base=DecisionTreeRegressor(ccp_a...</td>\n",
       "      <td>500</td>\n",
       "      <td>0.001</td>\n",
       "      <td>12</td>\n",
       "      <td>0.25</td>\n",
       "      <td>3183507.42</td>\n",
       "      <td>NaN</td>\n",
       "      <td>NaN</td>\n",
       "      <td>0.903535</td>\n",
       "      <td>0.793844</td>\n",
       "    </tr>\n",
       "    <tr>\n",
       "      <th>671</th>\n",
       "      <td>NGBClassifier(Base=DecisionTreeRegressor(ccp_a...</td>\n",
       "      <td>500</td>\n",
       "      <td>0.001</td>\n",
       "      <td>16</td>\n",
       "      <td>0.25</td>\n",
       "      <td>5207038.84</td>\n",
       "      <td>NaN</td>\n",
       "      <td>NaN</td>\n",
       "      <td>0.975923</td>\n",
       "      <td>0.742557</td>\n",
       "    </tr>\n",
       "  </tbody>\n",
       "</table>\n",
       "<p>135 rows × 10 columns</p>\n",
       "</div>"
      ],
      "text/plain": [
       "                                           hyperparams  estimators  \\\n",
       "1    NGBClassifier(Base=DecisionTreeRegressor(ccp_a...          50   \n",
       "6    NGBClassifier(Base=DecisionTreeRegressor(ccp_a...          50   \n",
       "11   NGBClassifier(Base=DecisionTreeRegressor(ccp_a...          50   \n",
       "16   NGBClassifier(Base=DecisionTreeRegressor(ccp_a...          50   \n",
       "21   NGBClassifier(Base=DecisionTreeRegressor(ccp_a...          50   \n",
       "..                                                 ...         ...   \n",
       "651  NGBClassifier(Base=DecisionTreeRegressor(ccp_a...         500   \n",
       "656  NGBClassifier(Base=DecisionTreeRegressor(ccp_a...         500   \n",
       "661  NGBClassifier(Base=DecisionTreeRegressor(ccp_a...         500   \n",
       "666  NGBClassifier(Base=DecisionTreeRegressor(ccp_a...         500   \n",
       "671  NGBClassifier(Base=DecisionTreeRegressor(ccp_a...         500   \n",
       "\n",
       "     learning_rate  max_depth  threshold        cost  count_zero  count_one  \\\n",
       "1            0.100          4       0.25  2471674.10         NaN        NaN   \n",
       "6            0.100          6       0.25  2560777.06         NaN        NaN   \n",
       "11           0.100          8       0.25  2576980.54         NaN        NaN   \n",
       "16           0.100         12       0.25  5098394.58         NaN        NaN   \n",
       "21           0.100         16       0.25  9034025.02         NaN        NaN   \n",
       "..             ...        ...        ...         ...         ...        ...   \n",
       "651          0.001          4       0.25  2471674.10         NaN        NaN   \n",
       "656          0.001          6       0.25  2435842.74         NaN        NaN   \n",
       "661          0.001          8       0.25  2337409.92         NaN        NaN   \n",
       "666          0.001         12       0.25  3183507.42         NaN        NaN   \n",
       "671          0.001         16       0.25  5207038.84         NaN        NaN   \n",
       "\n",
       "     train_auc  test_auc  \n",
       "1     0.832992  0.829108  \n",
       "6     0.836678  0.825526  \n",
       "11    0.854015  0.818639  \n",
       "16    0.941113  0.756073  \n",
       "21    0.994480  0.733789  \n",
       "..         ...       ...  \n",
       "651   0.827465  0.825104  \n",
       "656   0.830069  0.823181  \n",
       "661   0.842499  0.825558  \n",
       "666   0.903535  0.793844  \n",
       "671   0.975923  0.742557  \n",
       "\n",
       "[135 rows x 10 columns]"
      ]
     },
     "execution_count": 7,
     "metadata": {},
     "output_type": "execute_result"
    }
   ],
   "source": [
    "df_ref"
   ]
  },
  {
   "cell_type": "code",
   "execution_count": 14,
   "metadata": {},
   "outputs": [
    {
     "data": {
      "text/plain": [
       "numpy.ndarray"
      ]
     },
     "execution_count": 14,
     "metadata": {},
     "output_type": "execute_result"
    }
   ],
   "source": [
    "type(X_cls_train[0])"
   ]
  },
  {
   "cell_type": "code",
   "execution_count": 16,
   "metadata": {},
   "outputs": [
    {
     "data": {
      "text/plain": [
       "numpy.int64"
      ]
     },
     "execution_count": 16,
     "metadata": {},
     "output_type": "execute_result"
    }
   ],
   "source": [
    "type(Y_cls_train[0])"
   ]
  },
  {
   "cell_type": "code",
   "execution_count": 12,
   "metadata": {},
   "outputs": [
    {
     "data": {
      "text/plain": [
       "numpy.ndarray"
      ]
     },
     "execution_count": 12,
     "metadata": {},
     "output_type": "execute_result"
    }
   ],
   "source": [
    "type(X)"
   ]
  },
  {
   "cell_type": "code",
   "execution_count": 18,
   "metadata": {},
   "outputs": [
    {
     "data": {
      "text/plain": [
       "numpy.ndarray"
      ]
     },
     "execution_count": 18,
     "metadata": {},
     "output_type": "execute_result"
    }
   ],
   "source": [
    "type(y[0])"
   ]
  },
  {
   "cell_type": "code",
   "execution_count": 7,
   "metadata": {},
   "outputs": [
    {
     "name": "stdout",
     "output_type": "stream",
     "text": [
      "Requirement already satisfied: ngboost in /home/aldo/anaconda3/lib/python3.7/site-packages (0.2.1.dev0)\n",
      "Requirement already satisfied: scipy>=1.3.1 in /home/aldo/.local/lib/python3.7/site-packages (from ngboost) (1.4.1)\n",
      "Requirement already satisfied: numpy>=1.17.2 in /home/aldo/.local/lib/python3.7/site-packages (from ngboost) (1.17.4)\n",
      "Requirement already satisfied: scikit-learn>=0.21.3 in /home/aldo/.local/lib/python3.7/site-packages (from ngboost) (0.22.2.post1)\n",
      "Requirement already satisfied: lifelines>=0.22.8 in /home/aldo/anaconda3/lib/python3.7/site-packages (from ngboost) (0.23.9)\n",
      "Requirement already satisfied: tqdm>=4.36.1 in /home/aldo/.local/lib/python3.7/site-packages (from ngboost) (4.43.0)\n",
      "Requirement already satisfied: joblib>=0.11 in /home/aldo/.local/lib/python3.7/site-packages (from scikit-learn>=0.21.3->ngboost) (0.14.1)\n",
      "Requirement already satisfied: matplotlib>=3.0 in /home/aldo/.local/lib/python3.7/site-packages (from lifelines>=0.22.8->ngboost) (3.2.1)\n",
      "Requirement already satisfied: pandas>=0.23.0 in /home/aldo/.local/lib/python3.7/site-packages (from lifelines>=0.22.8->ngboost) (0.25.3)\n",
      "Requirement already satisfied: autograd>=1.3 in /home/aldo/anaconda3/lib/python3.7/site-packages (from lifelines>=0.22.8->ngboost) (1.3)\n",
      "Requirement already satisfied: autograd-gamma>=0.3 in /home/aldo/anaconda3/lib/python3.7/site-packages (from lifelines>=0.22.8->ngboost) (0.4.1)\n",
      "Requirement already satisfied: pyparsing!=2.0.4,!=2.1.2,!=2.1.6,>=2.0.1 in /home/aldo/.local/lib/python3.7/site-packages (from matplotlib>=3.0->lifelines>=0.22.8->ngboost) (2.4.6)\n",
      "Requirement already satisfied: python-dateutil>=2.1 in /home/aldo/.local/lib/python3.7/site-packages (from matplotlib>=3.0->lifelines>=0.22.8->ngboost) (2.8.1)\n",
      "Requirement already satisfied: kiwisolver>=1.0.1 in /home/aldo/.local/lib/python3.7/site-packages (from matplotlib>=3.0->lifelines>=0.22.8->ngboost) (1.1.0)\n",
      "Requirement already satisfied: cycler>=0.10 in /home/aldo/.local/lib/python3.7/site-packages (from matplotlib>=3.0->lifelines>=0.22.8->ngboost) (0.10.0)\n",
      "Requirement already satisfied: pytz>=2017.2 in /home/aldo/anaconda3/lib/python3.7/site-packages (from pandas>=0.23.0->lifelines>=0.22.8->ngboost) (2019.3)\n",
      "Requirement already satisfied: future>=0.15.2 in /home/aldo/.local/lib/python3.7/site-packages (from autograd>=1.3->lifelines>=0.22.8->ngboost) (0.16.0)\n",
      "Requirement already satisfied: six>=1.5 in /home/aldo/anaconda3/lib/python3.7/site-packages (from python-dateutil>=2.1->matplotlib>=3.0->lifelines>=0.22.8->ngboost) (1.12.0)\n",
      "Requirement already satisfied: setuptools in /home/aldo/anaconda3/lib/python3.7/site-packages (from kiwisolver>=1.0.1->matplotlib>=3.0->lifelines>=0.22.8->ngboost) (41.4.0)\n"
     ]
    }
   ],
   "source": [
    "!pip install ngboost"
   ]
  },
  {
   "cell_type": "code",
   "execution_count": null,
   "metadata": {},
   "outputs": [],
   "source": []
  }
 ],
 "metadata": {
  "kernelspec": {
   "display_name": "Python 3.7.4 64-bit ('base': conda)",
   "language": "python",
   "name": "python37464bitbasecondade271a8608cd4c59b4264a12c89cfa44"
  },
  "language_info": {
   "codemirror_mode": {
    "name": "ipython",
    "version": 3
   },
   "file_extension": ".py",
   "mimetype": "text/x-python",
   "name": "python",
   "nbconvert_exporter": "python",
   "pygments_lexer": "ipython3",
   "version": "3.7.4"
  }
 },
 "nbformat": 4,
 "nbformat_minor": 2
}
