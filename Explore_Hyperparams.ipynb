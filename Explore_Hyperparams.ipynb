{
 "cells": [
  {
   "cell_type": "code",
   "execution_count": 55,
   "metadata": {},
   "outputs": [
    {
     "data": {
      "text/html": [
       "        <script type=\"text/javascript\">\n",
       "        window.PlotlyConfig = {MathJaxConfig: 'local'};\n",
       "        if (window.MathJax) {MathJax.Hub.Config({SVG: {font: \"STIX-Web\"}});}\n",
       "        if (typeof require !== 'undefined') {\n",
       "        require.undef(\"plotly\");\n",
       "        requirejs.config({\n",
       "            paths: {\n",
       "                'plotly': ['https://cdn.plot.ly/plotly-latest.min']\n",
       "            }\n",
       "        });\n",
       "        require(['plotly'], function(Plotly) {\n",
       "            window._Plotly = Plotly;\n",
       "        });\n",
       "        }\n",
       "        </script>\n",
       "        "
      ]
     },
     "metadata": {},
     "output_type": "display_data"
    }
   ],
   "source": [
    "#ngboost and modelling libraries\n",
    "from ngboost import NGBClassifier\n",
    "from ngboost.distns import Bernoulli\n",
    "from sklearn.tree import DecisionTreeRegressor\n",
    "from sklearn.metrics import roc_auc_score, roc_curve, classification_report\n",
    "from sklearn.model_selection import train_test_split\n",
    "from sklearn.preprocessing import MinMaxScaler\n",
    "from imblearn.over_sampling import SMOTE\n",
    "from collections import Counter\n",
    "\n",
    "#data manipulation libraries\n",
    "import pandas as pd\n",
    "import numpy as np\n",
    "\n",
    "from plotly.offline import init_notebook_mode\n",
    "init_notebook_mode(connected=True)\n",
    "\n",
    "#ignore warnings\n",
    "import warnings\n",
    "warnings.filterwarnings('ignore')\n",
    "\n",
    "#import functions and constants\n",
    "from utils import (register_imputation, preprocess_df, \n",
    "                    scaling_values_df, clean_outliers, get_sample_weights, \n",
    "                  process_unit_cost, cost_score, generate_y_pred_with_custom_threshold, )\n",
    "from plot_utils import (correlation_heatmap, visualize_permutation_feature_importances, \n",
    "                        plot_target_balance, plot_trace_line, plot_scatter_matrix, \n",
    "                        plot_feature_importances, visualize_roc_curve, color_negative_red, )\n",
    "\n",
    "from constants import cols, cols_with_missing_indicators"
   ]
  },
  {
   "cell_type": "code",
   "execution_count": 56,
   "metadata": {},
   "outputs": [],
   "source": [
    "df = pd.read_csv(\"./data/cs-training.csv\", usecols =cols).fillna(0)"
   ]
  },
  {
   "cell_type": "code",
   "execution_count": 57,
   "metadata": {},
   "outputs": [],
   "source": [
    "from sklearn.decomposition import PCA\n",
    "from sklearn.preprocessing import StandardScaler\n",
    "pca = PCA(n_components=2)\n",
    "x = df.loc[:, cols[1:]].values\n",
    "# Separating out the target\n",
    "y = df.loc[:,[cols[0]]].values\n",
    "# Standardizing the features\n",
    "x = StandardScaler().fit_transform(x)\n",
    "principalComponents = pca.fit_transform(x)\n",
    "principalDf = pd.DataFrame(data = principalComponents, columns = ['principal component 1', 'principal component 2'])"
   ]
  },
  {
   "cell_type": "code",
   "execution_count": 58,
   "metadata": {},
   "outputs": [
    {
     "data": {
      "text/html": [
       "<div>\n",
       "<style scoped>\n",
       "    .dataframe tbody tr th:only-of-type {\n",
       "        vertical-align: middle;\n",
       "    }\n",
       "\n",
       "    .dataframe tbody tr th {\n",
       "        vertical-align: top;\n",
       "    }\n",
       "\n",
       "    .dataframe thead th {\n",
       "        text-align: right;\n",
       "    }\n",
       "</style>\n",
       "<table border=\"1\" class=\"dataframe\">\n",
       "  <thead>\n",
       "    <tr style=\"text-align: right;\">\n",
       "      <th></th>\n",
       "      <th>principal component 1</th>\n",
       "      <th>principal component 2</th>\n",
       "    </tr>\n",
       "  </thead>\n",
       "  <tbody>\n",
       "    <tr>\n",
       "      <th>0</th>\n",
       "      <td>-0.142754</td>\n",
       "      <td>3.716037</td>\n",
       "    </tr>\n",
       "    <tr>\n",
       "      <th>1</th>\n",
       "      <td>0.039126</td>\n",
       "      <td>-1.261171</td>\n",
       "    </tr>\n",
       "    <tr>\n",
       "      <th>2</th>\n",
       "      <td>0.358680</td>\n",
       "      <td>-1.695240</td>\n",
       "    </tr>\n",
       "    <tr>\n",
       "      <th>3</th>\n",
       "      <td>0.070621</td>\n",
       "      <td>-1.408882</td>\n",
       "    </tr>\n",
       "    <tr>\n",
       "      <th>4</th>\n",
       "      <td>-0.030521</td>\n",
       "      <td>0.896041</td>\n",
       "    </tr>\n",
       "    <tr>\n",
       "      <th>...</th>\n",
       "      <td>...</td>\n",
       "      <td>...</td>\n",
       "    </tr>\n",
       "    <tr>\n",
       "      <th>149995</th>\n",
       "      <td>-0.132267</td>\n",
       "      <td>-0.664609</td>\n",
       "    </tr>\n",
       "    <tr>\n",
       "      <th>149996</th>\n",
       "      <td>-0.036281</td>\n",
       "      <td>-0.377586</td>\n",
       "    </tr>\n",
       "    <tr>\n",
       "      <th>149997</th>\n",
       "      <td>-0.297301</td>\n",
       "      <td>1.159503</td>\n",
       "    </tr>\n",
       "    <tr>\n",
       "      <th>149998</th>\n",
       "      <td>0.082102</td>\n",
       "      <td>-1.477502</td>\n",
       "    </tr>\n",
       "    <tr>\n",
       "      <th>149999</th>\n",
       "      <td>-0.208708</td>\n",
       "      <td>0.460881</td>\n",
       "    </tr>\n",
       "  </tbody>\n",
       "</table>\n",
       "<p>150000 rows × 2 columns</p>\n",
       "</div>"
      ],
      "text/plain": [
       "        principal component 1  principal component 2\n",
       "0                   -0.142754               3.716037\n",
       "1                    0.039126              -1.261171\n",
       "2                    0.358680              -1.695240\n",
       "3                    0.070621              -1.408882\n",
       "4                   -0.030521               0.896041\n",
       "...                       ...                    ...\n",
       "149995              -0.132267              -0.664609\n",
       "149996              -0.036281              -0.377586\n",
       "149997              -0.297301               1.159503\n",
       "149998               0.082102              -1.477502\n",
       "149999              -0.208708               0.460881\n",
       "\n",
       "[150000 rows x 2 columns]"
      ]
     },
     "execution_count": 58,
     "metadata": {},
     "output_type": "execute_result"
    }
   ],
   "source": [
    "principalDf"
   ]
  },
  {
   "cell_type": "code",
   "execution_count": 59,
   "metadata": {},
   "outputs": [],
   "source": [
    "df_merge = pd.merge(principalDf.reset_index(), pre_df)"
   ]
  },
  {
   "cell_type": "code",
   "execution_count": 62,
   "metadata": {},
   "outputs": [
    {
     "data": {
      "image/png": "[encoded data removed]",
      "text/plain": [
       "<Figure size 432x288 with 1 Axes>"
      ]
     },
     "metadata": {
      "needs_background": "light"
     },
     "output_type": "display_data"
    }
   ],
   "source": [
    "import seaborn as sns\n",
    "ax = sns.scatterplot(x=\"principal component 1\", y=\"principal component 2\",\n",
    "                     hue=\"SeriousDlqin2yrs\", data=df_merge)"
   ]
  },
  {
   "cell_type": "code",
   "execution_count": 28,
   "metadata": {},
   "outputs": [
    {
     "data": {
      "image/png": "[encoded data removed]",
      "text/plain": [
       "<Figure size 432x288 with 1 Axes>"
      ]
     },
     "metadata": {
      "needs_background": "light"
     },
     "output_type": "display_data"
    }
   ],
   "source": [
    "import matplotlib.pyplot as plt\n",
    "from sklearn.cluster import KMeans\n",
    "\n",
    "Nc = range(1, 20)\n",
    "kmeans = [KMeans(n_clusters=i) for i in Nc]\n",
    "kmeans\n",
    "score = [kmeans[i].fit(principalDf).score(principalDf) for i in range(len(kmeans))]\n",
    "score\n",
    "plt.plot(Nc,score)\n",
    "plt.xlabel('Number of Clusters')\n",
    "plt.ylabel('Score')\n",
    "plt.title('Elbow Curve')\n",
    "plt.show()"
   ]
  },
  {
   "cell_type": "code",
   "execution_count": 20,
   "metadata": {},
   "outputs": [
    {
     "data": {
      "text/plain": [
       "[-1500000.0,\n",
       " -1055709.6050582852,\n",
       " -916900.0254477672,\n",
       " -819730.1476950842,\n",
       " -731019.6663265944,\n",
       " -643411.7134211509,\n",
       " -563842.9726104046,\n",
       " -484584.09756382945,\n",
       " -454693.5642853744,\n",
       " -421877.29686110216,\n",
       " -395597.10466800194,\n",
       " -380933.58413780504,\n",
       " -348414.9377443143,\n",
       " -331309.7664000094,\n",
       " -321516.4893951901,\n",
       " -308325.53656586807,\n",
       " -298262.93020901474,\n",
       " -284468.85714663804,\n",
       " -273969.5167110938]"
      ]
     },
     "execution_count": 20,
     "metadata": {},
     "output_type": "execute_result"
    }
   ],
   "source": [
    "score"
   ]
  },
  {
   "cell_type": "code",
   "execution_count": null,
   "metadata": {},
   "outputs": [],
   "source": [
    " -1055709.6050582852, 2\n",
    "    "
   ]
  },
  {
   "cell_type": "code",
   "execution_count": 29,
   "metadata": {},
   "outputs": [
    {
     "name": "stdout",
     "output_type": "stream",
     "text": [
      "[[ 3.63148460e-05  2.19523151e-03 -4.17955963e-02  3.06152650e-04\n",
      "   5.38370328e-04  2.94844294e-03 -4.20977643e-02  1.61920464e-03\n",
      "  -4.22519267e-02  6.65827713e-04]\n",
      " [-2.02135993e-02 -1.22191156e+00  2.32642990e+01 -1.70410938e-01\n",
      "  -2.99668132e-01 -1.64116472e+00  2.34324920e+01 -9.01283010e-01\n",
      "   2.35183020e+01 -3.70613566e-01]]\n"
     ]
    }
   ],
   "source": [
    "kmeans = KMeans(n_clusters=2).fit(x)\n",
    "centroids = kmeans.cluster_centers_\n",
    "print(centroids)"
   ]
  },
  {
   "cell_type": "code",
   "execution_count": 37,
   "metadata": {},
   "outputs": [
    {
     "data": {
      "text/plain": [
       "array([0, 0, 0, ..., 0, 0, 0], dtype=int32)"
      ]
     },
     "execution_count": 37,
     "metadata": {},
     "output_type": "execute_result"
    }
   ],
   "source": [
    "kmeans.predict(x)"
   ]
  },
  {
   "cell_type": "code",
   "execution_count": 38,
   "metadata": {},
   "outputs": [],
   "source": [
    "principalDf[\"cluster\"] = kmeans.predict(x)"
   ]
  },
  {
   "cell_type": "code",
   "execution_count": 41,
   "metadata": {},
   "outputs": [
    {
     "data": {
      "text/html": [
       "<div>\n",
       "<style scoped>\n",
       "    .dataframe tbody tr th:only-of-type {\n",
       "        vertical-align: middle;\n",
       "    }\n",
       "\n",
       "    .dataframe tbody tr th {\n",
       "        vertical-align: top;\n",
       "    }\n",
       "\n",
       "    .dataframe thead th {\n",
       "        text-align: right;\n",
       "    }\n",
       "</style>\n",
       "<table border=\"1\" class=\"dataframe\">\n",
       "  <thead>\n",
       "    <tr style=\"text-align: right;\">\n",
       "      <th></th>\n",
       "      <th>principal component 1</th>\n",
       "      <th>principal component 2</th>\n",
       "    </tr>\n",
       "    <tr>\n",
       "      <th>cluster</th>\n",
       "      <th></th>\n",
       "      <th></th>\n",
       "    </tr>\n",
       "  </thead>\n",
       "  <tbody>\n",
       "    <tr>\n",
       "      <th>0</th>\n",
       "      <td>149731</td>\n",
       "      <td>149731</td>\n",
       "    </tr>\n",
       "    <tr>\n",
       "      <th>1</th>\n",
       "      <td>269</td>\n",
       "      <td>269</td>\n",
       "    </tr>\n",
       "  </tbody>\n",
       "</table>\n",
       "</div>"
      ],
      "text/plain": [
       "         principal component 1  principal component 2\n",
       "cluster                                              \n",
       "0                       149731                 149731\n",
       "1                          269                    269"
      ]
     },
     "execution_count": 41,
     "metadata": {},
     "output_type": "execute_result"
    }
   ],
   "source": [
    "principalDf.groupby([\"cluster\"]).count()"
   ]
  },
  {
   "cell_type": "code",
   "execution_count": 54,
   "metadata": {},
   "outputs": [
    {
     "data": {
      "image/png": "[encoded data removed]",
      "text/plain": [
       "<Figure size 432x288 with 1 Axes>"
      ]
     },
     "metadata": {
      "needs_background": "light"
     },
     "output_type": "display_data"
    }
   ],
   "source": [
    "import seaborn as sns\n",
    "ax = sns.scatterplot(x=\"principal component 1\", y=\"principal component 2\",\n",
    "                     hue=\"cluster\", style=\"SeriousDlqin2yrs\", data=df_merged)"
   ]
  },
  {
   "cell_type": "code",
   "execution_count": 71,
   "metadata": {},
   "outputs": [],
   "source": [
    "df_blue_circle = df_merged[(df_merged[\"cluster\"]==0) &  (df_merged[\"SeriousDlqin2yrs\"]==0)] #blue and circle\n",
    "df_blue_x = df_merged[(df_merged[\"cluster\"]==0) &  (df_merged[\"SeriousDlqin2yrs\"]==1)] #blue and x\n",
    "df_orange_circle = df_merged[(df_merged[\"cluster\"]==1) &  (df_merged[\"SeriousDlqin2yrs\"]==0)] #red and circle\n",
    "df_orange_x = df_merged[(df_merged[\"cluster\"]==1) &  (df_merged[\"SeriousDlqin2yrs\"]==1)] #red and x\n"
   ]
  },
  {
   "cell_type": "code",
   "execution_count": 72,
   "metadata": {},
   "outputs": [
    {
     "data": {
      "text/plain": [
       "Index(['index', 'principal component 1', 'principal component 2', 'cluster',\n",
       "       'SeriousDlqin2yrs'],\n",
       "      dtype='object')"
      ]
     },
     "execution_count": 72,
     "metadata": {},
     "output_type": "execute_result"
    }
   ],
   "source": [
    "df_merged.columns"
   ]
  },
  {
   "cell_type": "code",
   "execution_count": null,
   "metadata": {},
   "outputs": [],
   "source": [
    "import plotly.graph_objs as go\n",
    "from plotly.offline import download_plotlyjs, init_notebook_mode, plot, iplot\n",
    "\n",
    "# Add traces\n",
    "data1 = go.Scatter(x=df_blue_circle['principal component 1'], y=df_blue_circle['principal component 2'],\n",
    "                    mode='markers',  marker_color = \"green\",opacity=0.8,\n",
    "                    name='Responsible (target = 0) - cluster 0')\n",
    "# Add traces\n",
    "data2 = go.Scatter(x=df_blue_x['principal component 1'], y=df_blue_x['principal component 2'],\n",
    "                    mode='markers',marker_symbol=\"x\",  marker_color = \"yellow\",opacity=0.8,\n",
    "                    name='Responsible (target = 0) -  cluster 1')\n",
    "\n",
    "# Add traces\n",
    "data3 = go.Scatter(x=df_orange_circle['principal component 1'], y=df_orange_circle['principal component 2'],\n",
    "                    mode='markers',  marker_color = \"red\",opacity=0.8,\n",
    "                    name='Delinquent (target = 1) - cluster 0')\n",
    "\n",
    "# Add traces\n",
    "data4 = go.Scatter(x=df_orange_x['principal component 1'], y=df_orange_x['principal component 2'],\n",
    "                    mode='markers',marker_symbol=\"x\",  marker_color = \"blue\",opacity=0.8,\n",
    "                    name='Delinquent (target = 1) - cluster 1')\n",
    "\n",
    "layout = dict(title= f\"PCA + K MEANS CLUSTERING DATA VIZ\", \n",
    "            xaxis= {\"title\": \"Principal Component 1\"}, \n",
    "            yaxis= {\"title\": \"Principal Component 2\"})\n",
    "\n",
    "\n",
    "fig = go.Figure(data=[data1, data2, data3, data4], layout=layout)\n",
    "iplot(fig)\n"
   ]
  },
  {
   "cell_type": "code",
   "execution_count": 64,
   "metadata": {},
   "outputs": [],
   "source": [
    "import plotly.express as px\n",
    "px.scatter?"
   ]
  },
  {
   "cell_type": "code",
   "execution_count": 48,
   "metadata": {},
   "outputs": [],
   "source": [
    "principalDf = principalDf.copy().reset_index()"
   ]
  },
  {
   "cell_type": "code",
   "execution_count": 50,
   "metadata": {},
   "outputs": [
    {
     "data": {
      "text/html": [
       "<div>\n",
       "<style scoped>\n",
       "    .dataframe tbody tr th:only-of-type {\n",
       "        vertical-align: middle;\n",
       "    }\n",
       "\n",
       "    .dataframe tbody tr th {\n",
       "        vertical-align: top;\n",
       "    }\n",
       "\n",
       "    .dataframe thead th {\n",
       "        text-align: right;\n",
       "    }\n",
       "</style>\n",
       "<table border=\"1\" class=\"dataframe\">\n",
       "  <thead>\n",
       "    <tr style=\"text-align: right;\">\n",
       "      <th></th>\n",
       "      <th>index</th>\n",
       "      <th>SeriousDlqin2yrs</th>\n",
       "    </tr>\n",
       "  </thead>\n",
       "  <tbody>\n",
       "    <tr>\n",
       "      <th>0</th>\n",
       "      <td>0</td>\n",
       "      <td>1</td>\n",
       "    </tr>\n",
       "    <tr>\n",
       "      <th>1</th>\n",
       "      <td>1</td>\n",
       "      <td>0</td>\n",
       "    </tr>\n",
       "    <tr>\n",
       "      <th>2</th>\n",
       "      <td>2</td>\n",
       "      <td>0</td>\n",
       "    </tr>\n",
       "    <tr>\n",
       "      <th>3</th>\n",
       "      <td>3</td>\n",
       "      <td>0</td>\n",
       "    </tr>\n",
       "    <tr>\n",
       "      <th>4</th>\n",
       "      <td>4</td>\n",
       "      <td>0</td>\n",
       "    </tr>\n",
       "    <tr>\n",
       "      <th>...</th>\n",
       "      <td>...</td>\n",
       "      <td>...</td>\n",
       "    </tr>\n",
       "    <tr>\n",
       "      <th>149995</th>\n",
       "      <td>149995</td>\n",
       "      <td>0</td>\n",
       "    </tr>\n",
       "    <tr>\n",
       "      <th>149996</th>\n",
       "      <td>149996</td>\n",
       "      <td>0</td>\n",
       "    </tr>\n",
       "    <tr>\n",
       "      <th>149997</th>\n",
       "      <td>149997</td>\n",
       "      <td>0</td>\n",
       "    </tr>\n",
       "    <tr>\n",
       "      <th>149998</th>\n",
       "      <td>149998</td>\n",
       "      <td>0</td>\n",
       "    </tr>\n",
       "    <tr>\n",
       "      <th>149999</th>\n",
       "      <td>149999</td>\n",
       "      <td>0</td>\n",
       "    </tr>\n",
       "  </tbody>\n",
       "</table>\n",
       "<p>150000 rows × 2 columns</p>\n",
       "</div>"
      ],
      "text/plain": [
       "         index  SeriousDlqin2yrs\n",
       "0            0                 1\n",
       "1            1                 0\n",
       "2            2                 0\n",
       "3            3                 0\n",
       "4            4                 0\n",
       "...        ...               ...\n",
       "149995  149995                 0\n",
       "149996  149996                 0\n",
       "149997  149997                 0\n",
       "149998  149998                 0\n",
       "149999  149999                 0\n",
       "\n",
       "[150000 rows x 2 columns]"
      ]
     },
     "execution_count": 50,
     "metadata": {},
     "output_type": "execute_result"
    }
   ],
   "source": [
    "pre_df = df[[\"SeriousDlqin2yrs\"]].reset_index()\n",
    "pre_df"
   ]
  },
  {
   "cell_type": "code",
   "execution_count": 52,
   "metadata": {},
   "outputs": [],
   "source": [
    "df_merged = pd.merge(principalDf, pre_df, on = \"index\")"
   ]
  },
  {
   "cell_type": "code",
   "execution_count": null,
   "metadata": {},
   "outputs": [],
   "source": [
    "kmeans = KMeans(n_clusters=8).fit(x)\n",
    "centroids = kmeans.cluster_centers_\n",
    "print(centroids)"
   ]
  },
  {
   "cell_type": "code",
   "execution_count": null,
   "metadata": {},
   "outputs": [],
   "source": [
    "import seaborn as sns; sns.set()\n",
    "import matplotlib.pyplot as plt\n",
    "ax = sns.scatterplot(x=\"total_bill\", y=\"tip\", data=tips)"
   ]
  },
  {
   "cell_type": "code",
   "execution_count": null,
   "metadata": {},
   "outputs": [],
   "source": []
  },
  {
   "cell_type": "code",
   "execution_count": null,
   "metadata": {},
   "outputs": [],
   "source": []
  },
  {
   "cell_type": "code",
   "execution_count": 10,
   "metadata": {},
   "outputs": [
    {
     "data": {
      "text/html": [
       "<div>\n",
       "<style scoped>\n",
       "    .dataframe tbody tr th:only-of-type {\n",
       "        vertical-align: middle;\n",
       "    }\n",
       "\n",
       "    .dataframe tbody tr th {\n",
       "        vertical-align: top;\n",
       "    }\n",
       "\n",
       "    .dataframe thead th {\n",
       "        text-align: right;\n",
       "    }\n",
       "</style>\n",
       "<table border=\"1\" class=\"dataframe\">\n",
       "  <thead>\n",
       "    <tr style=\"text-align: right;\">\n",
       "      <th></th>\n",
       "      <th>principal component 1</th>\n",
       "      <th>principal component 2</th>\n",
       "    </tr>\n",
       "  </thead>\n",
       "  <tbody>\n",
       "    <tr>\n",
       "      <th>0</th>\n",
       "      <td>-0.142754</td>\n",
       "      <td>3.716037</td>\n",
       "    </tr>\n",
       "    <tr>\n",
       "      <th>1</th>\n",
       "      <td>0.039126</td>\n",
       "      <td>-1.261171</td>\n",
       "    </tr>\n",
       "    <tr>\n",
       "      <th>2</th>\n",
       "      <td>0.358680</td>\n",
       "      <td>-1.695240</td>\n",
       "    </tr>\n",
       "    <tr>\n",
       "      <th>3</th>\n",
       "      <td>0.070621</td>\n",
       "      <td>-1.408882</td>\n",
       "    </tr>\n",
       "    <tr>\n",
       "      <th>4</th>\n",
       "      <td>-0.030521</td>\n",
       "      <td>0.896041</td>\n",
       "    </tr>\n",
       "    <tr>\n",
       "      <th>...</th>\n",
       "      <td>...</td>\n",
       "      <td>...</td>\n",
       "    </tr>\n",
       "    <tr>\n",
       "      <th>149995</th>\n",
       "      <td>-0.132267</td>\n",
       "      <td>-0.664609</td>\n",
       "    </tr>\n",
       "    <tr>\n",
       "      <th>149996</th>\n",
       "      <td>-0.036281</td>\n",
       "      <td>-0.377586</td>\n",
       "    </tr>\n",
       "    <tr>\n",
       "      <th>149997</th>\n",
       "      <td>-0.297301</td>\n",
       "      <td>1.159503</td>\n",
       "    </tr>\n",
       "    <tr>\n",
       "      <th>149998</th>\n",
       "      <td>0.082102</td>\n",
       "      <td>-1.477502</td>\n",
       "    </tr>\n",
       "    <tr>\n",
       "      <th>149999</th>\n",
       "      <td>-0.208708</td>\n",
       "      <td>0.460881</td>\n",
       "    </tr>\n",
       "  </tbody>\n",
       "</table>\n",
       "<p>150000 rows × 2 columns</p>\n",
       "</div>"
      ],
      "text/plain": [
       "        principal component 1  principal component 2\n",
       "0                   -0.142754               3.716037\n",
       "1                    0.039126              -1.261171\n",
       "2                    0.358680              -1.695240\n",
       "3                    0.070621              -1.408882\n",
       "4                   -0.030521               0.896041\n",
       "...                       ...                    ...\n",
       "149995              -0.132267              -0.664609\n",
       "149996              -0.036281              -0.377586\n",
       "149997              -0.297301               1.159503\n",
       "149998               0.082102              -1.477502\n",
       "149999              -0.208708               0.460881\n",
       "\n",
       "[150000 rows x 2 columns]"
      ]
     },
     "execution_count": 10,
     "metadata": {},
     "output_type": "execute_result"
    }
   ],
   "source": [
    "principalDf"
   ]
  },
  {
   "cell_type": "code",
   "execution_count": null,
   "metadata": {},
   "outputs": [],
   "source": []
  },
  {
   "cell_type": "code",
   "execution_count": null,
   "metadata": {},
   "outputs": [],
   "source": [
    "df = clean_outliers(df.copy(), True)"
   ]
  },
  {
   "cell_type": "code",
   "execution_count": null,
   "metadata": {},
   "outputs": [],
   "source": [
    "X = df.drop(columns=['SeriousDlqin2yrs']).values\n",
    "y = df.SeriousDlqin2yrs.values"
   ]
  },
  {
   "cell_type": "code",
   "execution_count": null,
   "metadata": {},
   "outputs": [],
   "source": [
    "X_train, X_test, y_train, y_test = train_test_split(X, y, test_size=0.2, random_state=42)"
   ]
  },
  {
   "cell_type": "code",
   "execution_count": null,
   "metadata": {},
   "outputs": [],
   "source": []
  },
  {
   "cell_type": "code",
   "execution_count": null,
   "metadata": {},
   "outputs": [],
   "source": []
  },
  {
   "cell_type": "code",
   "execution_count": null,
   "metadata": {},
   "outputs": [],
   "source": []
  },
  {
   "cell_type": "code",
   "execution_count": null,
   "metadata": {},
   "outputs": [],
   "source": [
    "from sklearn.metrics import roc_auc_score\n",
    "df_collector_estimators = pd.DataFrame(columns=  [\"estimators\", \"cost\", \"train_auc\", \"test_auc\"])\n",
    "k = 0\n",
    "for estimator in [50,60,65, 75, 80,100, 120, 150]:\n",
    "    print(\"estimators: {estimator}\")\n",
    "    ngb_clf = NGBClassifier(Dist=Bernoulli, verbose=True, n_estimators = estimator,  verbose_eval = 0)\n",
    "    ngb_clf.fit(X_train_resampled, y_train_resampled, sample_weight= get_sample_weights(y_train, y_train_resampled))\n",
    "    df_aux = pd.DataFrame(X_test, columns=cols[1:])\n",
    "    df_aux['predicted'] = generate_y_pred_with_custom_threshold(ngb_clf, X_test, 0.75)\n",
    "    df_aux['real'] = list(y_test)\n",
    "    df_aux['LoanPrincipal'] = df_aux.MonthlyIncome * 2\n",
    "    df_collector_estimators.ix[str(k),'estimators'] = estimator\n",
    "    df_collector_estimators.ix[str(k),'cost'] = cost_score(df_aux.LoanPrincipal, df_aux.predicted, df_aux.real)\n",
    "    # predict probabilities\n",
    "    train_probs = ngb_clf.predict_proba(X_train)\n",
    "    test_probs = ngb_clf.predict_proba(X_test)\n",
    "    # keep probabilities for the positive outcome only\n",
    "    train_probs = train_probs[:, 1]\n",
    "    test_probs = test_probs[:, 1]\n",
    "    # calculate scores\n",
    "    train_auc = roc_auc_score(y_train, train_probs)\n",
    "    test_auc = roc_auc_score(y_test, test_probs)\n",
    "    df_collector_estimators.ix[str(k),'train_auc'] = train_auc\n",
    "    df_collector_estimators.ix[str(k),'test_auc'] = test_auc\n",
    "    k+=1\n",
    "    del ngb_clf\n",
    "    \n",
    "\n",
    "df_collector_lr = pd.DataFrame(columns=  [\"lr\", \"cost\", \"train_auc\", \"test_auc\"])\n",
    "k = 0\n",
    "for lr in [0.1, 0.01, 0.001, 0.0001]:\n",
    "    print(\"learning_rate: {lr}\")\n",
    "    ngb_clf = NGBClassifier(Dist=Bernoulli, verbose=True, learning_rate = lr,  verbose_eval = 0)\n",
    "    ngb_clf.fit(X_train_resampled, y_train_resampled, sample_weight= get_sample_weights(y_train, y_train_resampled))\n",
    "    df_aux = pd.DataFrame(X_test, columns=cols[1:])\n",
    "    df_aux['predicted'] = generate_y_pred_with_custom_threshold(ngb_clf, X_test, 0.75)\n",
    "    df_aux['real'] = list(y_test)\n",
    "    df_aux['LoanPrincipal'] = df_aux.MonthlyIncome * 2\n",
    "    df_collector_lr.ix[str(k),'lr'] = lr\n",
    "    df_collector_lr.ix[str(k),'cost'] = cost_score(df_aux.LoanPrincipal, df_aux.predicted, df_aux.real)\n",
    "    # predict probabilities\n",
    "    train_probs = ngb_clf.predict_proba(X_train)\n",
    "    test_probs = ngb_clf.predict_proba(X_test)\n",
    "    # keep probabilities for the positive outcome only\n",
    "    train_probs = train_probs[:, 1]\n",
    "    test_probs = test_probs[:, 1]\n",
    "    # calculate scores\n",
    "    train_auc = roc_auc_score(y_train, train_probs)\n",
    "    test_auc = roc_auc_score(y_test, test_probs)\n",
    "    df_collector_lr.ix[str(k),'train_auc'] = train_auc\n",
    "    df_collector_lr.ix[str(k),'test_auc'] = test_auc\n",
    "    k+=1\n",
    "    del ngb_clf\n",
    "    \n",
    "    \n",
    "df_collector_base = pd.DataFrame(columns=  [\"base\", \"cost\", \"train_auc\", \"test_auc\"])\n",
    "k = 0\n",
    "for base in [base1,base2,base3]:\n",
    "    print(\"Base: {base}\")\n",
    "    ngb_clf = NGBClassifier(Dist=Bernoulli, verbose=True, Base=base,  verbose_eval = 0)\n",
    "    ngb_clf.fit(X_train_resampled, y_train_resampled, sample_weight= get_sample_weights(y_train, y_train_resampled))\n",
    "    df_aux = pd.DataFrame(X_test, columns=cols[1:])\n",
    "    df_aux['predicted'] = generate_y_pred_with_custom_threshold(ngb_clf, X_test, 0.75)\n",
    "    df_aux['real'] = list(y_test)\n",
    "    df_aux['LoanPrincipal'] = df_aux.MonthlyIncome * 2\n",
    "    df_collector_base.ix[str(k),'base'] = base\n",
    "    df_collector_base.ix[str(k),'cost'] = cost_score(df_aux.LoanPrincipal, df_aux.predicted, df_aux.real)\n",
    "    # predict probabilities\n",
    "    train_probs = ngb_clf.predict_proba(X_train)\n",
    "    test_probs = ngb_clf.predict_proba(X_test)\n",
    "    # keep probabilities for the positive outcome only\n",
    "    train_probs = train_probs[:, 1]\n",
    "    test_probs = test_probs[:, 1]\n",
    "    # calculate scores\n",
    "    train_auc = roc_auc_score(y_train, train_probs)\n",
    "    test_auc = roc_auc_score(y_test, test_probs)\n",
    "    df_collector_base.ix[str(k),'train_auc'] = train_auc\n",
    "    df_collector_base.ix[str(k),'test_auc'] = test_auc\n",
    "    k+=1\n",
    "    del ngb_clf"
   ]
  },
  {
   "cell_type": "code",
   "execution_count": null,
   "metadata": {},
   "outputs": [],
   "source": [
    "df_collector_lr"
   ]
  },
  {
   "cell_type": "code",
   "execution_count": null,
   "metadata": {},
   "outputs": [],
   "source": [
    "trace0 = go.Scatter(\n",
    "        x=df_collector_estimators.estimators,\n",
    "        y=df_collector_estimators.cost,\n",
    "        name=\"cost\",\n",
    "        line=dict(color=\"rgb(167, 103, 4)\", width=4),\n",
    "    )\n",
    "data = [trace0]\n",
    "\n",
    "# Edit the layout\n",
    "layout = dict(\n",
    "        title=f\"Evolution of performance metrics according to # of estimators\",\n",
    "        xaxis=dict(title=\"# Estimators\"),\n",
    "        yaxis=dict(title=f\"Cost\"),\n",
    ")\n",
    "\n",
    "fig = dict(data=data, layout=layout)\n",
    "iplot(fig)"
   ]
  },
  {
   "cell_type": "code",
   "execution_count": null,
   "metadata": {},
   "outputs": [],
   "source": [
    "trace1 = go.Scatter(\n",
    "        x=df_collector_estimators.estimators,\n",
    "        y=df_collector_estimators.train_auc,\n",
    "        name=\"train_auc\",\n",
    "        line=dict(color=\"blue\", width=4),\n",
    "    )\n",
    "\n",
    "trace2 = go.Scatter(\n",
    "        x=df_collector_estimators.estimators,\n",
    "        y=df_collector_estimators.test_auc,\n",
    "        name=\"test_auc\",\n",
    "        line=dict(color=\"gray\", width=4),\n",
    "    )\n",
    "data = [trace1, trace2]\n",
    "\n",
    "# Edit the layout\n",
    "layout = dict(\n",
    "        title=f\"Evolution of performance metrics according to # of estimators\",\n",
    "        xaxis=dict(title=\"# Estimators\"),\n",
    "        yaxis=dict(title=f\"AUC (train/test)\"),\n",
    ")\n",
    "\n",
    "fig = dict(data=data, layout=layout)\n",
    "iplot(fig)"
   ]
  },
  {
   "cell_type": "code",
   "execution_count": null,
   "metadata": {},
   "outputs": [],
   "source": [
    "trace0 = go.Scatter(\n",
    "        x=df_collector_lr.lr,\n",
    "        y=df_collector_lr.cost,\n",
    "        name=\"cost\",\n",
    "        line=dict(color=\"rgb(167, 103, 4)\", width=4),\n",
    "    )\n",
    "data = [trace0]\n",
    "\n",
    "# Edit the layout\n",
    "layout = dict(\n",
    "        title=f\"Evolution of performance metrics according to learning_rate\",\n",
    "        xaxis=dict(title=\"Learning_rate\"),\n",
    "        yaxis=dict(title=f\"Cost\"),\n",
    ")\n",
    "\n",
    "fig = dict(data=data, layout=layout)\n",
    "iplot(fig)"
   ]
  },
  {
   "cell_type": "code",
   "execution_count": null,
   "metadata": {},
   "outputs": [],
   "source": [
    "trace1 = go.Scatter(\n",
    "        x=df_collector_lr.lr,\n",
    "        y=df_collector_lr.train_auc,\n",
    "        name=\"train_auc\",\n",
    "        line=dict(color=\"blue\", width=4),\n",
    "    )\n",
    "\n",
    "trace2 = go.Scatter(\n",
    "        x=df_collector_lr.lr,\n",
    "        y=df_collector_lr.test_auc,\n",
    "        name=\"test_auc\",\n",
    "        line=dict(color=\"gray\", width=4),\n",
    "    )\n",
    "data = [trace1, trace2]\n",
    "\n",
    "# Edit the layout\n",
    "layout = dict(\n",
    "        title=f\"Evolution of performance metrics according to learning_rate\",\n",
    "        xaxis=dict(title=\"learning_rate\"),\n",
    "        yaxis=dict(title=f\"AUC (train/test)\"),\n",
    ")\n",
    "\n",
    "fig = dict(data=data, layout=layout)\n",
    "iplot(fig)"
   ]
  },
  {
   "cell_type": "code",
   "execution_count": null,
   "metadata": {},
   "outputs": [],
   "source": [
    "trace0 = go.Scatter(\n",
    "        x=[df_collector_base['base'].iloc[i].max_depth for i in range(len(df_collector_base['base']))],\n",
    "        y=df_collector_base.cost,\n",
    "        name=\"cost\",\n",
    "        line=dict(color=\"rgb(167, 103, 4)\", width=4),\n",
    "    )\n",
    "data = [trace0]\n",
    "\n",
    "# Edit the layout\n",
    "layout = dict(\n",
    "        title=f\"Evolution of performance metrics according to the max_depth of Base Learner\",\n",
    "        xaxis=dict(title=\"max_depth of Base Learner\"),\n",
    "        yaxis=dict(title=f\"Cost\"),\n",
    ")\n",
    "\n",
    "fig = dict(data=data, layout=layout)\n",
    "iplot(fig)"
   ]
  },
  {
   "cell_type": "code",
   "execution_count": null,
   "metadata": {},
   "outputs": [],
   "source": [
    "trace1 = go.Scatter(\n",
    "        x=[df_collector_base['base'].iloc[i].max_depth for i in range(len(df_collector_base['base']))],\n",
    "        y=df_collector_base.train_auc,\n",
    "        name=\"train_auc\",\n",
    "        line=dict(color=\"blue\", width=4),\n",
    "    )\n",
    "\n",
    "trace2 = go.Scatter(\n",
    "        x=[df_collector_base['base'].iloc[i].max_depth for i in range(len(df_collector_base['base']))],\n",
    "        y=df_collector_base.test_auc,\n",
    "        name=\"test_auc\",\n",
    "        line=dict(color=\"gray\", width=4),\n",
    "    )\n",
    "data = [trace1, trace2]\n",
    "\n",
    "# Edit the layout\n",
    "layout = dict(\n",
    "        title=f\"Evolution of performance metrics according to the max_depth of Base Learner\",\n",
    "        xaxis=dict(title=\"max_depth of Base Learner\"),\n",
    "        yaxis=dict(title=f\"AUC (train/test)\"),\n",
    ")\n",
    "\n",
    "fig = dict(data=data, layout=layout)\n",
    "iplot(fig)"
   ]
  },
  {
   "cell_type": "code",
   "execution_count": null,
   "metadata": {},
   "outputs": [],
   "source": []
  },
  {
   "cell_type": "code",
   "execution_count": null,
   "metadata": {},
   "outputs": [],
   "source": []
  },
  {
   "cell_type": "code",
   "execution_count": null,
   "metadata": {},
   "outputs": [],
   "source": []
  },
  {
   "cell_type": "code",
   "execution_count": null,
   "metadata": {},
   "outputs": [],
   "source": []
  },
  {
   "cell_type": "code",
   "execution_count": null,
   "metadata": {},
   "outputs": [],
   "source": []
  },
  {
   "cell_type": "code",
   "execution_count": null,
   "metadata": {},
   "outputs": [],
   "source": []
  },
  {
   "cell_type": "code",
   "execution_count": null,
   "metadata": {},
   "outputs": [],
   "source": []
  }
 ],
 "metadata": {
  "kernelspec": {
   "display_name": "Python 3",
   "language": "python",
   "name": "python3"
  },
  "language_info": {
   "codemirror_mode": {
    "name": "ipython",
    "version": 3
   },
   "file_extension": ".py",
   "mimetype": "text/x-python",
   "name": "python",
   "nbconvert_exporter": "python",
   "pygments_lexer": "ipython3",
   "version": "3.7.4"
  }
 },
 "nbformat": 4,
 "nbformat_minor": 2
}
